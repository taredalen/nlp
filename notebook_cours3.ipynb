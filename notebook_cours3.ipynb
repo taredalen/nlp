{
 "nbformat": 4,
 "nbformat_minor": 0,
 "metadata": {
  "anaconda-cloud": {},
  "kernelspec": {
   "display_name": "Python 3",
   "language": "python",
   "name": "python3"
  },
  "language_info": {
   "codemirror_mode": {
    "name": "ipython",
    "version": 3
   },
   "file_extension": ".py",
   "mimetype": "text/x-python",
   "name": "python",
   "nbconvert_exporter": "python",
   "pygments_lexer": "ipython3",
   "version": "3.6.3"
  },
  "colab": {
   "provenance": []
  }
 },
 "cells": [
  {
   "cell_type": "markdown",
   "metadata": {
    "id": "Gxu33mQ3KmA5"
   },
   "source": [
    "# <center> TP - Text-Mining <center/>"
   ]
  },
  {
   "cell_type": "markdown",
   "metadata": {
    "id": "l96-zB5jKmA6"
   },
   "source": [
    "** Before you begin this notebook, please make sure that you have the data folder + that you are running this notebook from your workspace **"
   ]
  },
  {
   "cell_type": "markdown",
   "metadata": {
    "id": "NGd_QTW2KmA7"
   },
   "source": [
    "_Now let's practice and use some text-mining techniques!_\n",
    "<br/>\n",
    "<br/> In this notebook we will study a mail dataset.\n",
    "Our final goal is to have some insights about the different subjects that appear in mailboxes. Among other problems, one big issue is that these mailboxes are poluted with a lot of spams.\n",
    "\n",
    "> The sequence we propose :\n",
    "- First you'll work on pre-processing the content of the mails\n",
    "- Then you will try to detect whether a mail is a spam or not through a supervized learning algorithm\n",
    "- Finally, once you've trained an algorithm to detect spams, you will try to identify the main topics in the remaining non-spam mails"
   ]
  },
  {
   "cell_type": "markdown",
   "metadata": {
    "id": "4kpj0cMRKmA8"
   },
   "source": [
    "## The data"
   ]
  },
  {
   "cell_type": "markdown",
   "metadata": {
    "id": "knOEA0oXKmA8"
   },
   "source": [
    "Data are separated in six parts, each containing around 5000 mails.\n",
    "<br/> Each of these data chunks are separated in two parts : \n",
    ">- hams : that is to say non-spam mails\n",
    "- spams : containing advertisement or unrelevant content"
   ]
  },
  {
   "cell_type": "markdown",
   "metadata": {
    "id": "GkA6fgUVKmA9"
   },
   "source": [
    "***\n",
    "***"
   ]
  },
  {
   "cell_type": "markdown",
   "metadata": {
    "id": "R4BThRrcKmA9"
   },
   "source": [
    "## 0. Imports"
   ]
  },
  {
   "cell_type": "code",
   "metadata": {
    "id": "IIzNRC09KmA-",
    "colab": {
     "base_uri": "https://localhost:8080/"
    },
    "outputId": "dc21010d-1e7c-4505-bdeb-aeeeafb34982"
   },
   "source": [
    "#Import usefull package\n",
    "import os\n",
    "import re\n",
    "import string\n",
    "import random\n",
    "import numpy as np\n",
    "import pandas as pd\n",
    "from collections import Counter\n",
    "\n",
    "#Import nltk packages to manipulate text\n",
    "import nltk\n",
    "from nltk.corpus import wordnet\n",
    "from nltk.corpus import stopwords\n",
    "from nltk.metrics import ConfusionMatrix\n",
    "from nltk.stem.snowball import SnowballStemmer\n",
    "\n",
    "from nltk import word_tokenize, WordNetLemmatizer, PorterStemmer\n",
    "from nltk import NaiveBayesClassifier, classify\n",
    "from nltk import pos_tag\n",
    "from nltk import ngrams\n",
    "#***\n",
    "nltk.download('punkt')\n",
    "nltk.download('wordnet')\n",
    "nltk.download('averaged_perceptron_tagger')\n",
    "nltk.download('stopwords')\n",
    "\n",
    "from nltk import word_tokenize,sent_tokenize\n",
    "\n",
    "# Let's add a path containing some useful nltk data\n",
    "nltk.data.path += ['/mnt/share/nltk_data']\n",
    "\n",
    "# Plotting\n",
    "import matplotlib.pyplot as plt\n",
    "%matplotlib inline\n",
    "\n",
    "from functools import reduce\n",
    "from wordcloud import WordCloud\n",
    "\n",
    "# scikit-learn packages\n",
    "from sklearn.feature_extraction.text import TfidfVectorizer,CountVectorizer\n",
    "from sklearn.model_selection import train_test_split\n",
    "from sklearn.cluster import KMeans\n",
    "from sklearn.decomposition import PCA\n",
    "import sklearn.metrics\n",
    "\n",
    "# word2vec\n",
    "import gensim\n",
    "from gensim.models import Word2Vec"
   ],
   "execution_count": 7,
   "outputs": [
    {
     "name": "stderr",
     "output_type": "stream",
     "text": [
      "[nltk_data] Downloading package punkt to /Users/sebila/nltk_data...\n",
      "[nltk_data]   Package punkt is already up-to-date!\n",
      "[nltk_data] Downloading package wordnet to /Users/sebila/nltk_data...\n",
      "[nltk_data]   Package wordnet is already up-to-date!\n",
      "[nltk_data] Downloading package averaged_perceptron_tagger to\n",
      "[nltk_data]     /Users/sebila/nltk_data...\n",
      "[nltk_data]   Package averaged_perceptron_tagger is already up-to-\n",
      "[nltk_data]       date!\n",
      "[nltk_data] Downloading package stopwords to\n",
      "[nltk_data]     /Users/sebila/nltk_data...\n",
      "[nltk_data]   Package stopwords is already up-to-date!\n"
     ]
    }
   ]
  },
  {
   "cell_type": "code",
   "metadata": {
    "id": "0YYdfu35KmBC",
    "colab": {
     "base_uri": "https://localhost:8080/"
    },
    "outputId": "cd4d078b-b4ae-4b72-c2ff-599e3a20d6e5"
   },
   "source": [
    "# from google.colab import drive\n",
    "# drive.mount('/content/drive')\n"
   ],
   "execution_count": null,
   "outputs": [
    {
     "output_type": "stream",
     "name": "stdout",
     "text": [
      "Mounted at /content/drive\n"
     ]
    }
   ]
  },
  {
   "cell_type": "code",
   "metadata": {
    "id": "xb1OAnZWfAGP"
   },
   "source": [
    "# If you unzipped the data somewhere else, modify the variable hereunder\n",
    "path_data  = \"./enron1\""
   ],
   "execution_count": 8,
   "outputs": []
  },
  {
   "cell_type": "markdown",
   "metadata": {
    "id": "o4Llrxk_KmBF"
   },
   "source": [
    "# I. Data ingestion"
   ]
  },
  {
   "cell_type": "code",
   "metadata": {
    "id": "DyHzH77AKmBF"
   },
   "source": [
    "# Nothing to understand\n",
    "def read_mails(folder):\n",
    "    \"\"\"\n",
    "    Reads all the mails contained in a folder and gathers them in a list\n",
    "    \n",
    "    Args :\n",
    "        folder (str) : path to the folder containing mails\n",
    "        \n",
    "    Returns :\n",
    "        mails_list (list) : a list containing mails contents\n",
    "    \"\"\"\n",
    "    \n",
    "    mails_list = []\n",
    "    files_list = os.listdir(folder)\n",
    "    for file_name in files_list:\n",
    "        file_content = open(folder + file_name, 'r', encoding='latin1')\n",
    "        mails_list.append(file_content.read())\n",
    "    file_content.close()\n",
    "    return mails_list"
   ],
   "execution_count": 9,
   "outputs": []
  },
  {
   "cell_type": "markdown",
   "metadata": {
    "id": "bGcGem_pKmBH"
   },
   "source": [
    "## A. Load data"
   ]
  },
  {
   "cell_type": "markdown",
   "metadata": {
    "id": "-XmjfXfzKmBI"
   },
   "source": [
    "Data are separated in six parts, each containing around 5000 mails.\n",
    "<br/> Each of these data chunks are separated in two parts : ham and spam\n",
    "<br/>Let's load the first data chunk"
   ]
  },
  {
   "cell_type": "code",
   "execution_count": null,
   "outputs": [],
   "source": [],
   "metadata": {
    "collapsed": false,
    "pycharm": {
     "name": "#%%\n"
    }
   }
  },
  {
   "cell_type": "code",
   "metadata": {
    "id": "QnczT1jvKmBI",
    "colab": {
     "base_uri": "https://localhost:8080/",
     "height": 232
    },
    "outputId": "d219eac7-183e-4f87-9fbb-05af9d072570"
   },
   "source": [
    "spams = []\n",
    "hams = []\n",
    "for folder in os.listdir(path_data):\n",
    "    if not folder.startswith('.') and folder != 'Summary.txt' :\n",
    "        # Load corre spams\n",
    "        spams.extend(read_mails(path_data +  '/' + folder + '/'))\n",
    "        # Load corresponding hams\n",
    "        hams.extend(read_mails(path_data +  '/' + folder +'/'))"
   ],
   "execution_count": 12,
   "outputs": []
  },
  {
   "cell_type": "code",
   "metadata": {
    "id": "OnFB0ravg8ME"
   },
   "source": [
    "hams_df = pd.read_csv('enron1/hams.csv')\n",
    "spams_df = pd.read_csv('enron1/spams.csv')"
   ],
   "execution_count": 17,
   "outputs": []
  },
  {
   "cell_type": "code",
   "metadata": {
    "colab": {
     "base_uri": "https://localhost:8080/",
     "height": 154
    },
    "id": "vGXBKKDwhNgl",
    "outputId": "e41830d4-d278-4fa9-91d9-2ac87b0c5530"
   },
   "source": [
    "hams[0]"
   ],
   "execution_count": 18,
   "outputs": [
    {
     "data": {
      "text/plain": "\"Subject: what up , , your cam babe\\nwhat are you looking for ?\\nif your looking for a companion for friendship , love , a date , or just good ole '\\nfashioned * * * * * * , then try our brand new site ; it was developed and created\\nto help anyone find what they ' re looking for . a quick bio form and you ' re\\non the road to satisfaction in every sense of the word . . . . no matter what\\nthat may be !\\ntry it out and youll be amazed .\\nhave a terrific time this evening\\ncopy and pa ste the add . ress you see on the line below into your browser to come to the site .\\nhttp : / / www . meganbang . biz / bld / acc /\\nno more plz\\nhttp : / / www . naturalgolden . com / retract /\\ncounterattack aitken step preemptive shoehorn scaup . electrocardiograph movie honeycomb . monster war brandywine pietism byrne catatonia . encomia lookup intervenor skeleton turn catfish .\\n\""
     },
     "execution_count": 18,
     "metadata": {},
     "output_type": "execute_result"
    }
   ]
  },
  {
   "cell_type": "code",
   "metadata": {
    "id": "Iu74JpOChUdD"
   },
   "source": [
    "spams = spams_df.text.to_list()"
   ],
   "execution_count": 19,
   "outputs": []
  },
  {
   "cell_type": "code",
   "metadata": {
    "colab": {
     "base_uri": "https://localhost:8080/"
    },
    "id": "JUDFYj9chh7v",
    "outputId": "8bbf68f9-e1e3-40ce-eb66-1405edec5ddf"
   },
   "source": [
    "hams_df.count"
   ],
   "execution_count": 20,
   "outputs": [
    {
     "data": {
      "text/plain": "<bound method DataFrame.count of       type                                               text\n0      ham  Subject: ena sales on hpl just to update you o...\n1      ham  Subject: 98 - 6736 & 98 - 9638 for 1997 ( ua 4...\n2      ham  Subject: hpl nominations for december 28 , 199...\n3      ham  Subject: revised nom - kcs resources daren , i...\n4      ham  Subject: new production - sitara deals needed ...\n...    ...                                                ...\n16540  ham  Subject: uo mba visitors ( sorry for the late ...\n16541  ham  Subject: colstrip cut 8 / 01 / 01 to whom this...\n16542  ham  Subject: start date : 12 / 29 / 01 ; hourahead...\n16543  ham  Subject: schedule crawler : hourahead failure ...\n16544  ham  Subject: schedule crawler : hourahead failure ...\n\n[16545 rows x 2 columns]>"
     },
     "execution_count": 20,
     "metadata": {},
     "output_type": "execute_result"
    }
   ]
  },
  {
   "cell_type": "markdown",
   "metadata": {
    "id": "4c6NMJ3MKmBK"
   },
   "source": [
    "## B. Split data for spam detection learning"
   ]
  },
  {
   "cell_type": "markdown",
   "metadata": {
    "id": "_ycAAN2LKmBL"
   },
   "source": [
    "We now split the data between train and test (proportion 80%/20%)\n",
    "\n",
    ">**reminder**\n",
    "<br/>\n",
    "- Training set : data on which we are going to learn what is a spam and what is a ham\n",
    "- Testing set : data that we will keep isolated, and on which we will test the algorithm. the model will never have seen these data when working on it"
   ]
  },
  {
   "cell_type": "code",
   "metadata": {
    "id": "n-vzh_u1KmBL"
   },
   "source": [
    "# TODO : Split data into train & test using train_test_split function\n",
    "train_hams, test_hams = train_test_split(hams_df.text.to_list(), train_size=0.8, test_size=0.2, shuffle=False)\n",
    "train_spams, test_spams = train_test_split(spams_df.text.to_list(), train_size=0.8, test_size=0.2, shuffle=False)"
   ],
   "execution_count": 21,
   "outputs": []
  },
  {
   "cell_type": "code",
   "metadata": {
    "colab": {
     "base_uri": "https://localhost:8080/"
    },
    "id": "f_tYYI4qH9pI",
    "outputId": "97e42e89-bf2b-492d-82cd-9bd4107e59b5"
   },
   "source": [
    "train_hams.count"
   ],
   "execution_count": 22,
   "outputs": [
    {
     "data": {
      "text/plain": "<function list.count(value, /)>"
     },
     "execution_count": 22,
     "metadata": {},
     "output_type": "execute_result"
    }
   ]
  },
  {
   "cell_type": "markdown",
   "metadata": {
    "id": "tRg6ciXeKmBO"
   },
   "source": [
    "Add its label to each mail"
   ]
  },
  {
   "cell_type": "code",
   "metadata": {
    "scrolled": true,
    "id": "I1t9wkGHKmBO",
    "colab": {
     "base_uri": "https://localhost:8080/"
    },
    "outputId": "ec498df4-0b2d-4313-e4d9-3713a95e276b"
   },
   "source": [
    "train_set = [(mail,'spam','train') for mail in train_spams] + [(mail,'ham','train') for mail in train_hams]\n",
    "print('Train set size = ' + str(len(train_set)) + ' emails')\n",
    "\n",
    "test_set = [(mail,'spam','test') for mail in test_spams] + [(mail,'ham','test') for mail in test_hams]\n",
    "print('Test set size = ' + str(len(test_set)) + ' emails')\n",
    "\n",
    "all_mails = train_set+test_set\n",
    "random.shuffle(all_mails)"
   ],
   "execution_count": 23,
   "outputs": [
    {
     "name": "stdout",
     "output_type": "stream",
     "text": [
      "Train set size = 26972 emails\n",
      "Test set size = 6744 emails\n"
     ]
    }
   ]
  },
  {
   "cell_type": "markdown",
   "metadata": {
    "id": "o1Stp2gIKmBR"
   },
   "source": [
    "# II. Preprocessing"
   ]
  },
  {
   "cell_type": "markdown",
   "metadata": {
    "id": "eexxBfTuKmBR"
   },
   "source": [
    "## A. Preprocessing one email"
   ]
  },
  {
   "cell_type": "markdown",
   "metadata": {
    "id": "9Y9RW-ARKmBR"
   },
   "source": [
    "Display one email content"
   ]
  },
  {
   "cell_type": "code",
   "metadata": {
    "scrolled": true,
    "id": "AcX2Wj3QKmBS",
    "colab": {
     "base_uri": "https://localhost:8080/"
    },
    "outputId": "7941d759-42d0-4c75-9f75-5d61d29a8120"
   },
   "source": [
    "#Get one spam-email\n",
    "single_email = train_set[0][0]\n",
    "print('this mail is a : ' + str(train_set[3][1])+'\\n')\n",
    "print(single_email)"
   ],
   "execution_count": 24,
   "outputs": [
    {
     "name": "stdout",
     "output_type": "stream",
     "text": [
      "this mail is a : spam\n",
      "\n",
      "Subject: what up , , your cam babe what are you looking for ? if your looking for a companion for friendship , love , a date , or just good ole ' fashioned * * * * * * , then try our brand new site ; it was developed and created to help anyone find what they ' re looking for . a quick bio form and you ' re on the road to satisfaction in every sense of the word . . . . no matter what that may be ! try it out and youll be amazed . have a terrific time this evening copy and pa ste the add . ress you see on the line below into your browser to come to the site . http : / / www . meganbang . biz / bld / acc / no more plz http : / / www . naturalgolden . com / retract / counterattack aitken step preemptive shoehorn scaup . electrocardiograph movie honeycomb . monster war brandywine pietism byrne catatonia . encomia lookup intervenor skeleton turn catfish . \n"
     ]
    }
   ]
  },
  {
   "cell_type": "markdown",
   "metadata": {
    "id": "c77FWbiDKmBU"
   },
   "source": [
    "### Lower verbatim"
   ]
  },
  {
   "cell_type": "markdown",
   "metadata": {
    "id": "uE89HZA_KmBU"
   },
   "source": [
    "Lower the content of the previously displayed mail"
   ]
  },
  {
   "cell_type": "code",
   "metadata": {
    "id": "Kr7HFXYJKmBV",
    "colab": {
     "base_uri": "https://localhost:8080/"
    },
    "outputId": "53e49b85-3d9c-46d3-8b9e-d548c46b3225"
   },
   "source": [
    "#TODO : lower case the email & print it\n",
    "lower_mail = single_email.lower()\n",
    "print(lower_mail)"
   ],
   "execution_count": 25,
   "outputs": [
    {
     "name": "stdout",
     "output_type": "stream",
     "text": [
      "subject: what up , , your cam babe what are you looking for ? if your looking for a companion for friendship , love , a date , or just good ole ' fashioned * * * * * * , then try our brand new site ; it was developed and created to help anyone find what they ' re looking for . a quick bio form and you ' re on the road to satisfaction in every sense of the word . . . . no matter what that may be ! try it out and youll be amazed . have a terrific time this evening copy and pa ste the add . ress you see on the line below into your browser to come to the site . http : / / www . meganbang . biz / bld / acc / no more plz http : / / www . naturalgolden . com / retract / counterattack aitken step preemptive shoehorn scaup . electrocardiograph movie honeycomb . monster war brandywine pietism byrne catatonia . encomia lookup intervenor skeleton turn catfish . \n"
     ]
    }
   ]
  },
  {
   "cell_type": "markdown",
   "metadata": {
    "id": "g-koxrfYKmBY"
   },
   "source": [
    "### Tokenization"
   ]
  },
  {
   "cell_type": "markdown",
   "metadata": {
    "id": "8nD6IRm7KmBY"
   },
   "source": [
    "Here we are using a word tokenizer to divide the sentence into tokens"
   ]
  },
  {
   "cell_type": "code",
   "metadata": {
    "scrolled": true,
    "id": "SF2UQDW8KmBY",
    "colab": {
     "base_uri": "https://localhost:8080/"
    },
    "outputId": "e0c0146c-5ac0-4ee5-c55f-3cc5aa70c399"
   },
   "source": [
    "#TODO : tokenize your email and print it\n",
    "tokenized_mail = word_tokenize(lower_mail)\n",
    "print(tokenized_mail[0:100])"
   ],
   "execution_count": 26,
   "outputs": [
    {
     "name": "stdout",
     "output_type": "stream",
     "text": [
      "['subject', ':', 'what', 'up', ',', ',', 'your', 'cam', 'babe', 'what', 'are', 'you', 'looking', 'for', '?', 'if', 'your', 'looking', 'for', 'a', 'companion', 'for', 'friendship', ',', 'love', ',', 'a', 'date', ',', 'or', 'just', 'good', 'ole', \"'\", 'fashioned', '*', '*', '*', '*', '*', '*', ',', 'then', 'try', 'our', 'brand', 'new', 'site', ';', 'it', 'was', 'developed', 'and', 'created', 'to', 'help', 'anyone', 'find', 'what', 'they', \"'\", 're', 'looking', 'for', '.', 'a', 'quick', 'bio', 'form', 'and', 'you', \"'\", 're', 'on', 'the', 'road', 'to', 'satisfaction', 'in', 'every', 'sense', 'of', 'the', 'word', '.', '.', '.', '.', 'no', 'matter', 'what', 'that', 'may', 'be', '!', 'try', 'it', 'out', 'and', 'youll']\n"
     ]
    }
   ]
  },
  {
   "cell_type": "code",
   "metadata": {
    "id": "TVAWGlLOKmBa",
    "colab": {
     "base_uri": "https://localhost:8080/"
    },
    "outputId": "a479370d-014d-4496-8a70-f97f408fa4bd"
   },
   "source": [
    "#TODO : create bigrams of your email & print it\n",
    "bigrams = [bigram for bigram in ngrams(tokenized_mail,2)]\n",
    "bigrams"
   ],
   "execution_count": 27,
   "outputs": [
    {
     "data": {
      "text/plain": "[('subject', ':'),\n (':', 'what'),\n ('what', 'up'),\n ('up', ','),\n (',', ','),\n (',', 'your'),\n ('your', 'cam'),\n ('cam', 'babe'),\n ('babe', 'what'),\n ('what', 'are'),\n ('are', 'you'),\n ('you', 'looking'),\n ('looking', 'for'),\n ('for', '?'),\n ('?', 'if'),\n ('if', 'your'),\n ('your', 'looking'),\n ('looking', 'for'),\n ('for', 'a'),\n ('a', 'companion'),\n ('companion', 'for'),\n ('for', 'friendship'),\n ('friendship', ','),\n (',', 'love'),\n ('love', ','),\n (',', 'a'),\n ('a', 'date'),\n ('date', ','),\n (',', 'or'),\n ('or', 'just'),\n ('just', 'good'),\n ('good', 'ole'),\n ('ole', \"'\"),\n (\"'\", 'fashioned'),\n ('fashioned', '*'),\n ('*', '*'),\n ('*', '*'),\n ('*', '*'),\n ('*', '*'),\n ('*', '*'),\n ('*', ','),\n (',', 'then'),\n ('then', 'try'),\n ('try', 'our'),\n ('our', 'brand'),\n ('brand', 'new'),\n ('new', 'site'),\n ('site', ';'),\n (';', 'it'),\n ('it', 'was'),\n ('was', 'developed'),\n ('developed', 'and'),\n ('and', 'created'),\n ('created', 'to'),\n ('to', 'help'),\n ('help', 'anyone'),\n ('anyone', 'find'),\n ('find', 'what'),\n ('what', 'they'),\n ('they', \"'\"),\n (\"'\", 're'),\n ('re', 'looking'),\n ('looking', 'for'),\n ('for', '.'),\n ('.', 'a'),\n ('a', 'quick'),\n ('quick', 'bio'),\n ('bio', 'form'),\n ('form', 'and'),\n ('and', 'you'),\n ('you', \"'\"),\n (\"'\", 're'),\n ('re', 'on'),\n ('on', 'the'),\n ('the', 'road'),\n ('road', 'to'),\n ('to', 'satisfaction'),\n ('satisfaction', 'in'),\n ('in', 'every'),\n ('every', 'sense'),\n ('sense', 'of'),\n ('of', 'the'),\n ('the', 'word'),\n ('word', '.'),\n ('.', '.'),\n ('.', '.'),\n ('.', '.'),\n ('.', 'no'),\n ('no', 'matter'),\n ('matter', 'what'),\n ('what', 'that'),\n ('that', 'may'),\n ('may', 'be'),\n ('be', '!'),\n ('!', 'try'),\n ('try', 'it'),\n ('it', 'out'),\n ('out', 'and'),\n ('and', 'youll'),\n ('youll', 'be'),\n ('be', 'amazed'),\n ('amazed', '.'),\n ('.', 'have'),\n ('have', 'a'),\n ('a', 'terrific'),\n ('terrific', 'time'),\n ('time', 'this'),\n ('this', 'evening'),\n ('evening', 'copy'),\n ('copy', 'and'),\n ('and', 'pa'),\n ('pa', 'ste'),\n ('ste', 'the'),\n ('the', 'add'),\n ('add', '.'),\n ('.', 'ress'),\n ('ress', 'you'),\n ('you', 'see'),\n ('see', 'on'),\n ('on', 'the'),\n ('the', 'line'),\n ('line', 'below'),\n ('below', 'into'),\n ('into', 'your'),\n ('your', 'browser'),\n ('browser', 'to'),\n ('to', 'come'),\n ('come', 'to'),\n ('to', 'the'),\n ('the', 'site'),\n ('site', '.'),\n ('.', 'http'),\n ('http', ':'),\n (':', '/'),\n ('/', '/'),\n ('/', 'www'),\n ('www', '.'),\n ('.', 'meganbang'),\n ('meganbang', '.'),\n ('.', 'biz'),\n ('biz', '/'),\n ('/', 'bld'),\n ('bld', '/'),\n ('/', 'acc'),\n ('acc', '/'),\n ('/', 'no'),\n ('no', 'more'),\n ('more', 'plz'),\n ('plz', 'http'),\n ('http', ':'),\n (':', '/'),\n ('/', '/'),\n ('/', 'www'),\n ('www', '.'),\n ('.', 'naturalgolden'),\n ('naturalgolden', '.'),\n ('.', 'com'),\n ('com', '/'),\n ('/', 'retract'),\n ('retract', '/'),\n ('/', 'counterattack'),\n ('counterattack', 'aitken'),\n ('aitken', 'step'),\n ('step', 'preemptive'),\n ('preemptive', 'shoehorn'),\n ('shoehorn', 'scaup'),\n ('scaup', '.'),\n ('.', 'electrocardiograph'),\n ('electrocardiograph', 'movie'),\n ('movie', 'honeycomb'),\n ('honeycomb', '.'),\n ('.', 'monster'),\n ('monster', 'war'),\n ('war', 'brandywine'),\n ('brandywine', 'pietism'),\n ('pietism', 'byrne'),\n ('byrne', 'catatonia'),\n ('catatonia', '.'),\n ('.', 'encomia'),\n ('encomia', 'lookup'),\n ('lookup', 'intervenor'),\n ('intervenor', 'skeleton'),\n ('skeleton', 'turn'),\n ('turn', 'catfish'),\n ('catfish', '.')]"
     },
     "execution_count": 27,
     "metadata": {},
     "output_type": "execute_result"
    }
   ]
  },
  {
   "cell_type": "code",
   "metadata": {
    "id": "XEzlovlDKmBc",
    "colab": {
     "base_uri": "https://localhost:8080/"
    },
    "outputId": "24531d28-39d5-46ad-e559-7be4d74b8f2f"
   },
   "source": [
    "#TODO : create trigrams of your email & print it\n",
    "trigrams = [trigram for trigram in ngrams(tokenized_mail,3)]\n",
    "trigrams"
   ],
   "execution_count": 28,
   "outputs": [
    {
     "data": {
      "text/plain": "[('subject', ':', 'what'),\n (':', 'what', 'up'),\n ('what', 'up', ','),\n ('up', ',', ','),\n (',', ',', 'your'),\n (',', 'your', 'cam'),\n ('your', 'cam', 'babe'),\n ('cam', 'babe', 'what'),\n ('babe', 'what', 'are'),\n ('what', 'are', 'you'),\n ('are', 'you', 'looking'),\n ('you', 'looking', 'for'),\n ('looking', 'for', '?'),\n ('for', '?', 'if'),\n ('?', 'if', 'your'),\n ('if', 'your', 'looking'),\n ('your', 'looking', 'for'),\n ('looking', 'for', 'a'),\n ('for', 'a', 'companion'),\n ('a', 'companion', 'for'),\n ('companion', 'for', 'friendship'),\n ('for', 'friendship', ','),\n ('friendship', ',', 'love'),\n (',', 'love', ','),\n ('love', ',', 'a'),\n (',', 'a', 'date'),\n ('a', 'date', ','),\n ('date', ',', 'or'),\n (',', 'or', 'just'),\n ('or', 'just', 'good'),\n ('just', 'good', 'ole'),\n ('good', 'ole', \"'\"),\n ('ole', \"'\", 'fashioned'),\n (\"'\", 'fashioned', '*'),\n ('fashioned', '*', '*'),\n ('*', '*', '*'),\n ('*', '*', '*'),\n ('*', '*', '*'),\n ('*', '*', '*'),\n ('*', '*', ','),\n ('*', ',', 'then'),\n (',', 'then', 'try'),\n ('then', 'try', 'our'),\n ('try', 'our', 'brand'),\n ('our', 'brand', 'new'),\n ('brand', 'new', 'site'),\n ('new', 'site', ';'),\n ('site', ';', 'it'),\n (';', 'it', 'was'),\n ('it', 'was', 'developed'),\n ('was', 'developed', 'and'),\n ('developed', 'and', 'created'),\n ('and', 'created', 'to'),\n ('created', 'to', 'help'),\n ('to', 'help', 'anyone'),\n ('help', 'anyone', 'find'),\n ('anyone', 'find', 'what'),\n ('find', 'what', 'they'),\n ('what', 'they', \"'\"),\n ('they', \"'\", 're'),\n (\"'\", 're', 'looking'),\n ('re', 'looking', 'for'),\n ('looking', 'for', '.'),\n ('for', '.', 'a'),\n ('.', 'a', 'quick'),\n ('a', 'quick', 'bio'),\n ('quick', 'bio', 'form'),\n ('bio', 'form', 'and'),\n ('form', 'and', 'you'),\n ('and', 'you', \"'\"),\n ('you', \"'\", 're'),\n (\"'\", 're', 'on'),\n ('re', 'on', 'the'),\n ('on', 'the', 'road'),\n ('the', 'road', 'to'),\n ('road', 'to', 'satisfaction'),\n ('to', 'satisfaction', 'in'),\n ('satisfaction', 'in', 'every'),\n ('in', 'every', 'sense'),\n ('every', 'sense', 'of'),\n ('sense', 'of', 'the'),\n ('of', 'the', 'word'),\n ('the', 'word', '.'),\n ('word', '.', '.'),\n ('.', '.', '.'),\n ('.', '.', '.'),\n ('.', '.', 'no'),\n ('.', 'no', 'matter'),\n ('no', 'matter', 'what'),\n ('matter', 'what', 'that'),\n ('what', 'that', 'may'),\n ('that', 'may', 'be'),\n ('may', 'be', '!'),\n ('be', '!', 'try'),\n ('!', 'try', 'it'),\n ('try', 'it', 'out'),\n ('it', 'out', 'and'),\n ('out', 'and', 'youll'),\n ('and', 'youll', 'be'),\n ('youll', 'be', 'amazed'),\n ('be', 'amazed', '.'),\n ('amazed', '.', 'have'),\n ('.', 'have', 'a'),\n ('have', 'a', 'terrific'),\n ('a', 'terrific', 'time'),\n ('terrific', 'time', 'this'),\n ('time', 'this', 'evening'),\n ('this', 'evening', 'copy'),\n ('evening', 'copy', 'and'),\n ('copy', 'and', 'pa'),\n ('and', 'pa', 'ste'),\n ('pa', 'ste', 'the'),\n ('ste', 'the', 'add'),\n ('the', 'add', '.'),\n ('add', '.', 'ress'),\n ('.', 'ress', 'you'),\n ('ress', 'you', 'see'),\n ('you', 'see', 'on'),\n ('see', 'on', 'the'),\n ('on', 'the', 'line'),\n ('the', 'line', 'below'),\n ('line', 'below', 'into'),\n ('below', 'into', 'your'),\n ('into', 'your', 'browser'),\n ('your', 'browser', 'to'),\n ('browser', 'to', 'come'),\n ('to', 'come', 'to'),\n ('come', 'to', 'the'),\n ('to', 'the', 'site'),\n ('the', 'site', '.'),\n ('site', '.', 'http'),\n ('.', 'http', ':'),\n ('http', ':', '/'),\n (':', '/', '/'),\n ('/', '/', 'www'),\n ('/', 'www', '.'),\n ('www', '.', 'meganbang'),\n ('.', 'meganbang', '.'),\n ('meganbang', '.', 'biz'),\n ('.', 'biz', '/'),\n ('biz', '/', 'bld'),\n ('/', 'bld', '/'),\n ('bld', '/', 'acc'),\n ('/', 'acc', '/'),\n ('acc', '/', 'no'),\n ('/', 'no', 'more'),\n ('no', 'more', 'plz'),\n ('more', 'plz', 'http'),\n ('plz', 'http', ':'),\n ('http', ':', '/'),\n (':', '/', '/'),\n ('/', '/', 'www'),\n ('/', 'www', '.'),\n ('www', '.', 'naturalgolden'),\n ('.', 'naturalgolden', '.'),\n ('naturalgolden', '.', 'com'),\n ('.', 'com', '/'),\n ('com', '/', 'retract'),\n ('/', 'retract', '/'),\n ('retract', '/', 'counterattack'),\n ('/', 'counterattack', 'aitken'),\n ('counterattack', 'aitken', 'step'),\n ('aitken', 'step', 'preemptive'),\n ('step', 'preemptive', 'shoehorn'),\n ('preemptive', 'shoehorn', 'scaup'),\n ('shoehorn', 'scaup', '.'),\n ('scaup', '.', 'electrocardiograph'),\n ('.', 'electrocardiograph', 'movie'),\n ('electrocardiograph', 'movie', 'honeycomb'),\n ('movie', 'honeycomb', '.'),\n ('honeycomb', '.', 'monster'),\n ('.', 'monster', 'war'),\n ('monster', 'war', 'brandywine'),\n ('war', 'brandywine', 'pietism'),\n ('brandywine', 'pietism', 'byrne'),\n ('pietism', 'byrne', 'catatonia'),\n ('byrne', 'catatonia', '.'),\n ('catatonia', '.', 'encomia'),\n ('.', 'encomia', 'lookup'),\n ('encomia', 'lookup', 'intervenor'),\n ('lookup', 'intervenor', 'skeleton'),\n ('intervenor', 'skeleton', 'turn'),\n ('skeleton', 'turn', 'catfish'),\n ('turn', 'catfish', '.')]"
     },
     "execution_count": 28,
     "metadata": {},
     "output_type": "execute_result"
    }
   ]
  },
  {
   "cell_type": "markdown",
   "metadata": {
    "id": "XQ-F5WMuKmBf"
   },
   "source": [
    "### Lemmatize "
   ]
  },
  {
   "cell_type": "markdown",
   "metadata": {
    "id": "9g6w8JduKmBf"
   },
   "source": [
    "We want to lemmatize the verbatims"
   ]
  },
  {
   "cell_type": "code",
   "metadata": {
    "id": "vpiIrPndKmBg"
   },
   "source": [
    "#TODO get lemmatizer\n",
    "lemmatizer = WordNetLemmatizer()"
   ],
   "execution_count": 29,
   "outputs": []
  },
  {
   "cell_type": "code",
   "metadata": {
    "scrolled": false,
    "id": "Mx1lVbWYKmBi",
    "colab": {
     "base_uri": "https://localhost:8080/"
    },
    "outputId": "ffabc568-2cf0-4929-e3c0-4a4269adb470"
   },
   "source": [
    "#TODO print lemmatisation of \"found\" without POS\n",
    "print('Lemmatisation without POS : found -> ' + lemmatizer.lemmatize('viewing'))\n",
    "#TODO print lemmatisation of \"found\" with POS\n",
    "print('Lemmatisation with POS : found -> ' + lemmatizer.lemmatize('viewing','v'))"
   ],
   "execution_count": 30,
   "outputs": [
    {
     "name": "stdout",
     "output_type": "stream",
     "text": [
      "Lemmatisation without POS : found -> viewing\n",
      "Lemmatisation with POS : found -> view\n"
     ]
    }
   ]
  },
  {
   "cell_type": "markdown",
   "metadata": {
    "id": "FMES2ekQKmBj"
   },
   "source": [
    "One little subtelty : Lemmatizing efficiently requires to pos_tag the words to know their grammatical nature"
   ]
  },
  {
   "cell_type": "markdown",
   "metadata": {
    "id": "9pm10YxrKmBk"
   },
   "source": [
    "### Let's pos_tag the tokens"
   ]
  },
  {
   "cell_type": "code",
   "metadata": {
    "scrolled": true,
    "id": "XaB_jwwXKmBk",
    "colab": {
     "base_uri": "https://localhost:8080/"
    },
    "outputId": "8635bbc3-c8fa-457f-8daf-7c34ec72cea4"
   },
   "source": [
    "#TODO pos_tag your tokenized email & print it\n",
    "pos_tagged_mail = nltk.pos_tag(tokenized_mail)\n",
    "pos_tagged_mail"
   ],
   "execution_count": 31,
   "outputs": [
    {
     "data": {
      "text/plain": "[('subject', 'NN'),\n (':', ':'),\n ('what', 'WP'),\n ('up', 'IN'),\n (',', ','),\n (',', ','),\n ('your', 'PRP$'),\n ('cam', 'NN'),\n ('babe', 'IN'),\n ('what', 'WP'),\n ('are', 'VBP'),\n ('you', 'PRP'),\n ('looking', 'VBG'),\n ('for', 'IN'),\n ('?', '.'),\n ('if', 'IN'),\n ('your', 'PRP$'),\n ('looking', 'VBG'),\n ('for', 'IN'),\n ('a', 'DT'),\n ('companion', 'NN'),\n ('for', 'IN'),\n ('friendship', 'NN'),\n (',', ','),\n ('love', 'NN'),\n (',', ','),\n ('a', 'DT'),\n ('date', 'NN'),\n (',', ','),\n ('or', 'CC'),\n ('just', 'RB'),\n ('good', 'JJ'),\n ('ole', 'NN'),\n (\"'\", 'POS'),\n ('fashioned', 'VBN'),\n ('*', 'NNP'),\n ('*', 'NNP'),\n ('*', 'NNP'),\n ('*', 'NNP'),\n ('*', 'NNP'),\n ('*', 'NNP'),\n (',', ','),\n ('then', 'RB'),\n ('try', 'VB'),\n ('our', 'PRP$'),\n ('brand', 'NN'),\n ('new', 'JJ'),\n ('site', 'NN'),\n (';', ':'),\n ('it', 'PRP'),\n ('was', 'VBD'),\n ('developed', 'VBN'),\n ('and', 'CC'),\n ('created', 'VBN'),\n ('to', 'TO'),\n ('help', 'VB'),\n ('anyone', 'NN'),\n ('find', 'VB'),\n ('what', 'WP'),\n ('they', 'PRP'),\n (\"'\", 'VBP'),\n ('re', 'JJ'),\n ('looking', 'VBG'),\n ('for', 'IN'),\n ('.', '.'),\n ('a', 'DT'),\n ('quick', 'JJ'),\n ('bio', 'NN'),\n ('form', 'NN'),\n ('and', 'CC'),\n ('you', 'PRP'),\n (\"'\", \"''\"),\n ('re', 'VB'),\n ('on', 'IN'),\n ('the', 'DT'),\n ('road', 'NN'),\n ('to', 'TO'),\n ('satisfaction', 'NN'),\n ('in', 'IN'),\n ('every', 'DT'),\n ('sense', 'NN'),\n ('of', 'IN'),\n ('the', 'DT'),\n ('word', 'NN'),\n ('.', '.'),\n ('.', '.'),\n ('.', '.'),\n ('.', '.'),\n ('no', 'DT'),\n ('matter', 'NN'),\n ('what', 'WP'),\n ('that', 'WDT'),\n ('may', 'MD'),\n ('be', 'VB'),\n ('!', '.'),\n ('try', 'VB'),\n ('it', 'PRP'),\n ('out', 'RP'),\n ('and', 'CC'),\n ('youll', 'RB'),\n ('be', 'VB'),\n ('amazed', 'VBN'),\n ('.', '.'),\n ('have', 'VB'),\n ('a', 'DT'),\n ('terrific', 'JJ'),\n ('time', 'NN'),\n ('this', 'DT'),\n ('evening', 'NN'),\n ('copy', 'NN'),\n ('and', 'CC'),\n ('pa', 'NN'),\n ('ste', 'NN'),\n ('the', 'DT'),\n ('add', 'NN'),\n ('.', '.'),\n ('ress', 'NN'),\n ('you', 'PRP'),\n ('see', 'VBP'),\n ('on', 'IN'),\n ('the', 'DT'),\n ('line', 'NN'),\n ('below', 'IN'),\n ('into', 'IN'),\n ('your', 'PRP$'),\n ('browser', 'NN'),\n ('to', 'TO'),\n ('come', 'VB'),\n ('to', 'TO'),\n ('the', 'DT'),\n ('site', 'NN'),\n ('.', '.'),\n ('http', 'NN'),\n (':', ':'),\n ('/', 'JJ'),\n ('/', 'NNP'),\n ('www', 'NN'),\n ('.', '.'),\n ('meganbang', 'NN'),\n ('.', '.'),\n ('biz', 'NN'),\n ('/', 'JJ'),\n ('bld', 'NN'),\n ('/', 'NNP'),\n ('acc', 'NN'),\n ('/', 'VBZ'),\n ('no', 'DT'),\n ('more', 'RBR'),\n ('plz', 'JJ'),\n ('http', 'NN'),\n (':', ':'),\n ('/', 'JJ'),\n ('/', 'NNP'),\n ('www', 'NN'),\n ('.', '.'),\n ('naturalgolden', 'JJ'),\n ('.', '.'),\n ('com', 'NN'),\n ('/', 'JJ'),\n ('retract', 'NN'),\n ('/', 'NNP'),\n ('counterattack', 'NN'),\n ('aitken', 'JJ'),\n ('step', 'NN'),\n ('preemptive', 'JJ'),\n ('shoehorn', 'JJ'),\n ('scaup', 'NN'),\n ('.', '.'),\n ('electrocardiograph', 'JJ'),\n ('movie', 'NN'),\n ('honeycomb', 'NN'),\n ('.', '.'),\n ('monster', 'NN'),\n ('war', 'NN'),\n ('brandywine', 'NN'),\n ('pietism', 'NN'),\n ('byrne', 'JJ'),\n ('catatonia', 'NN'),\n ('.', '.'),\n ('encomia', 'NN'),\n ('lookup', 'NN'),\n ('intervenor', 'IN'),\n ('skeleton', 'NN'),\n ('turn', 'VBP'),\n ('catfish', 'JJ'),\n ('.', '.')]"
     },
     "execution_count": 31,
     "metadata": {},
     "output_type": "execute_result"
    }
   ]
  },
  {
   "cell_type": "code",
   "metadata": {
    "id": "-CGLWb4gKmBm"
   },
   "source": [
    "# Nothing to understand\n",
    "def get_wordnet_pos(pos_tag):\n",
    "    \"\"\"\n",
    "    Modifies pos_tag to get a more general nature of word\n",
    "    \"\"\"\n",
    "    if pos_tag.startswith('J'):\n",
    "        return wordnet.ADJ\n",
    "    elif pos_tag.startswith('V'):\n",
    "        return 'v'\n",
    "        #return wordnet.VERB\n",
    "    elif pos_tag.startswith('N'):\n",
    "        return wordnet.NOUN\n",
    "    elif pos_tag.startswith('R'):\n",
    "        return wordnet.ADV\n",
    "    else:\n",
    "        return 'n'"
   ],
   "execution_count": 32,
   "outputs": []
  },
  {
   "cell_type": "markdown",
   "metadata": {
    "id": "wSZj5zdfKmBo"
   },
   "source": [
    "### Lemmatizer "
   ]
  },
  {
   "cell_type": "code",
   "metadata": {
    "id": "g8hLjKJZKmBp",
    "colab": {
     "base_uri": "https://localhost:8080/"
    },
    "outputId": "0396888c-cdf8-4a86-a5d1-180bd4fd513f"
   },
   "source": [
    "#TODO: Lemmatize your email without pos & print it\n",
    "lemmatized_mail_no_pos = [lemmatizer.lemmatize(word[0]) for word in pos_tagged_mail]\n",
    "print(lemmatized_mail_no_pos)"
   ],
   "execution_count": 33,
   "outputs": [
    {
     "name": "stdout",
     "output_type": "stream",
     "text": [
      "['subject', ':', 'what', 'up', ',', ',', 'your', 'cam', 'babe', 'what', 'are', 'you', 'looking', 'for', '?', 'if', 'your', 'looking', 'for', 'a', 'companion', 'for', 'friendship', ',', 'love', ',', 'a', 'date', ',', 'or', 'just', 'good', 'ole', \"'\", 'fashioned', '*', '*', '*', '*', '*', '*', ',', 'then', 'try', 'our', 'brand', 'new', 'site', ';', 'it', 'wa', 'developed', 'and', 'created', 'to', 'help', 'anyone', 'find', 'what', 'they', \"'\", 're', 'looking', 'for', '.', 'a', 'quick', 'bio', 'form', 'and', 'you', \"'\", 're', 'on', 'the', 'road', 'to', 'satisfaction', 'in', 'every', 'sense', 'of', 'the', 'word', '.', '.', '.', '.', 'no', 'matter', 'what', 'that', 'may', 'be', '!', 'try', 'it', 'out', 'and', 'youll', 'be', 'amazed', '.', 'have', 'a', 'terrific', 'time', 'this', 'evening', 'copy', 'and', 'pa', 'ste', 'the', 'add', '.', 'res', 'you', 'see', 'on', 'the', 'line', 'below', 'into', 'your', 'browser', 'to', 'come', 'to', 'the', 'site', '.', 'http', ':', '/', '/', 'www', '.', 'meganbang', '.', 'biz', '/', 'bld', '/', 'acc', '/', 'no', 'more', 'plz', 'http', ':', '/', '/', 'www', '.', 'naturalgolden', '.', 'com', '/', 'retract', '/', 'counterattack', 'aitken', 'step', 'preemptive', 'shoehorn', 'scaup', '.', 'electrocardiograph', 'movie', 'honeycomb', '.', 'monster', 'war', 'brandywine', 'pietism', 'byrne', 'catatonia', '.', 'encomium', 'lookup', 'intervenor', 'skeleton', 'turn', 'catfish', '.']\n"
     ]
    }
   ]
  },
  {
   "cell_type": "code",
   "metadata": {
    "scrolled": false,
    "id": "07j0sijyKmBq",
    "colab": {
     "base_uri": "https://localhost:8080/"
    },
    "outputId": "d1607d24-7e8e-470c-eb13-1a08bf6be438"
   },
   "source": [
    "##TODO: Lemmatize your email with pos & print it\n",
    "lemmatized_mail = [lemmatizer.lemmatize(word[0],get_wordnet_pos(word[1])) for word in pos_tagged_mail]\n",
    "print(lemmatized_mail)"
   ],
   "execution_count": 34,
   "outputs": [
    {
     "name": "stdout",
     "output_type": "stream",
     "text": [
      "['subject', ':', 'what', 'up', ',', ',', 'your', 'cam', 'babe', 'what', 'be', 'you', 'look', 'for', '?', 'if', 'your', 'look', 'for', 'a', 'companion', 'for', 'friendship', ',', 'love', ',', 'a', 'date', ',', 'or', 'just', 'good', 'ole', \"'\", 'fashion', '*', '*', '*', '*', '*', '*', ',', 'then', 'try', 'our', 'brand', 'new', 'site', ';', 'it', 'be', 'develop', 'and', 'create', 'to', 'help', 'anyone', 'find', 'what', 'they', \"'\", 're', 'look', 'for', '.', 'a', 'quick', 'bio', 'form', 'and', 'you', \"'\", 're', 'on', 'the', 'road', 'to', 'satisfaction', 'in', 'every', 'sense', 'of', 'the', 'word', '.', '.', '.', '.', 'no', 'matter', 'what', 'that', 'may', 'be', '!', 'try', 'it', 'out', 'and', 'youll', 'be', 'amaze', '.', 'have', 'a', 'terrific', 'time', 'this', 'evening', 'copy', 'and', 'pa', 'ste', 'the', 'add', '.', 'res', 'you', 'see', 'on', 'the', 'line', 'below', 'into', 'your', 'browser', 'to', 'come', 'to', 'the', 'site', '.', 'http', ':', '/', '/', 'www', '.', 'meganbang', '.', 'biz', '/', 'bld', '/', 'acc', '/', 'no', 'more', 'plz', 'http', ':', '/', '/', 'www', '.', 'naturalgolden', '.', 'com', '/', 'retract', '/', 'counterattack', 'aitken', 'step', 'preemptive', 'shoehorn', 'scaup', '.', 'electrocardiograph', 'movie', 'honeycomb', '.', 'monster', 'war', 'brandywine', 'pietism', 'byrne', 'catatonia', '.', 'encomium', 'lookup', 'intervenor', 'skeleton', 'turn', 'catfish', '.']\n"
     ]
    }
   ]
  },
  {
   "cell_type": "code",
   "metadata": {
    "scrolled": true,
    "id": "Tn3djWxnKmBs",
    "colab": {
     "base_uri": "https://localhost:8080/"
    },
    "outputId": "0d60e422-192e-4456-c825-c8d2dd9b8e85"
   },
   "source": [
    "#TODO: Did we deleted word between tokenization & lemmatization ?\n",
    "print ('Length Lemmatized single email = ' + str(len(lemmatized_mail)) + ' words')\n",
    "print ('Length Tokenized single email = ' + str(len(tokenized_mail)) + ' words')"
   ],
   "execution_count": 35,
   "outputs": [
    {
     "name": "stdout",
     "output_type": "stream",
     "text": [
      "Length Lemmatized single email = 186 words\n",
      "Length Tokenized single email = 186 words\n"
     ]
    }
   ]
  },
  {
   "cell_type": "markdown",
   "metadata": {
    "id": "3-9vCbsbKmBu"
   },
   "source": [
    "## Stemmer"
   ]
  },
  {
   "cell_type": "code",
   "metadata": {
    "id": "Wksms_3cKmBu",
    "colab": {
     "base_uri": "https://localhost:8080/"
    },
    "outputId": "cfedf280-1651-4a4e-c53d-2774e25dfc7d"
   },
   "source": [
    "stemmer = SnowballStemmer('english')\n",
    "#TODO: stem your email\n",
    "stemmed_email = [stemmer.stem(word) for word in tokenized_mail]\n",
    "print(stemmed_email)"
   ],
   "execution_count": 36,
   "outputs": [
    {
     "name": "stdout",
     "output_type": "stream",
     "text": [
      "['subject', ':', 'what', 'up', ',', ',', 'your', 'cam', 'babe', 'what', 'are', 'you', 'look', 'for', '?', 'if', 'your', 'look', 'for', 'a', 'companion', 'for', 'friendship', ',', 'love', ',', 'a', 'date', ',', 'or', 'just', 'good', 'ole', \"'\", 'fashion', '*', '*', '*', '*', '*', '*', ',', 'then', 'tri', 'our', 'brand', 'new', 'site', ';', 'it', 'was', 'develop', 'and', 'creat', 'to', 'help', 'anyon', 'find', 'what', 'they', \"'\", 're', 'look', 'for', '.', 'a', 'quick', 'bio', 'form', 'and', 'you', \"'\", 're', 'on', 'the', 'road', 'to', 'satisfact', 'in', 'everi', 'sens', 'of', 'the', 'word', '.', '.', '.', '.', 'no', 'matter', 'what', 'that', 'may', 'be', '!', 'tri', 'it', 'out', 'and', 'youll', 'be', 'amaz', '.', 'have', 'a', 'terrif', 'time', 'this', 'even', 'copi', 'and', 'pa', 'ste', 'the', 'add', '.', 'ress', 'you', 'see', 'on', 'the', 'line', 'below', 'into', 'your', 'browser', 'to', 'come', 'to', 'the', 'site', '.', 'http', ':', '/', '/', 'www', '.', 'meganbang', '.', 'biz', '/', 'bld', '/', 'acc', '/', 'no', 'more', 'plz', 'http', ':', '/', '/', 'www', '.', 'naturalgolden', '.', 'com', '/', 'retract', '/', 'counterattack', 'aitken', 'step', 'preemptiv', 'shoehorn', 'scaup', '.', 'electrocardiograph', 'movi', 'honeycomb', '.', 'monster', 'war', 'brandywin', 'pietism', 'byrn', 'catatonia', '.', 'encomia', 'lookup', 'intervenor', 'skeleton', 'turn', 'catfish', '.']\n"
     ]
    }
   ]
  },
  {
   "cell_type": "code",
   "metadata": {
    "id": "Q-yjr5TuKmBw",
    "colab": {
     "base_uri": "https://localhost:8080/"
    },
    "outputId": "670e9a66-7301-44fe-9ea7-c7f15229f96c"
   },
   "source": [
    "#TODO: print the length of your email\n",
    "print ('Length stemmed single email = ' + str(len(stemmed_email)) + ' words')"
   ],
   "execution_count": 37,
   "outputs": [
    {
     "name": "stdout",
     "output_type": "stream",
     "text": [
      "Length stemmed single email = 186 words\n"
     ]
    }
   ]
  },
  {
   "cell_type": "markdown",
   "metadata": {
    "id": "pjbr6Lc6KmBz"
   },
   "source": [
    "### Stopwords"
   ]
  },
  {
   "cell_type": "code",
   "metadata": {
    "scrolled": true,
    "id": "CFd28kTmKmBz",
    "colab": {
     "base_uri": "https://localhost:8080/"
    },
    "outputId": "b6ff3775-6cc2-42ae-9209-2711ce3b9eca"
   },
   "source": [
    "# Have a look at stopwords\n",
    "stoplist = stopwords.words('english')\n",
    "#TODO: print example of stop words\n",
    "print('Example of stop words in english :')\n",
    "print(stoplist)"
   ],
   "execution_count": 38,
   "outputs": [
    {
     "name": "stdout",
     "output_type": "stream",
     "text": [
      "Example of stop words in english :\n",
      "['i', 'me', 'my', 'myself', 'we', 'our', 'ours', 'ourselves', 'you', \"you're\", \"you've\", \"you'll\", \"you'd\", 'your', 'yours', 'yourself', 'yourselves', 'he', 'him', 'his', 'himself', 'she', \"she's\", 'her', 'hers', 'herself', 'it', \"it's\", 'its', 'itself', 'they', 'them', 'their', 'theirs', 'themselves', 'what', 'which', 'who', 'whom', 'this', 'that', \"that'll\", 'these', 'those', 'am', 'is', 'are', 'was', 'were', 'be', 'been', 'being', 'have', 'has', 'had', 'having', 'do', 'does', 'did', 'doing', 'a', 'an', 'the', 'and', 'but', 'if', 'or', 'because', 'as', 'until', 'while', 'of', 'at', 'by', 'for', 'with', 'about', 'against', 'between', 'into', 'through', 'during', 'before', 'after', 'above', 'below', 'to', 'from', 'up', 'down', 'in', 'out', 'on', 'off', 'over', 'under', 'again', 'further', 'then', 'once', 'here', 'there', 'when', 'where', 'why', 'how', 'all', 'any', 'both', 'each', 'few', 'more', 'most', 'other', 'some', 'such', 'no', 'nor', 'not', 'only', 'own', 'same', 'so', 'than', 'too', 'very', 's', 't', 'can', 'will', 'just', 'don', \"don't\", 'should', \"should've\", 'now', 'd', 'll', 'm', 'o', 're', 've', 'y', 'ain', 'aren', \"aren't\", 'couldn', \"couldn't\", 'didn', \"didn't\", 'doesn', \"doesn't\", 'hadn', \"hadn't\", 'hasn', \"hasn't\", 'haven', \"haven't\", 'isn', \"isn't\", 'ma', 'mightn', \"mightn't\", 'mustn', \"mustn't\", 'needn', \"needn't\", 'shan', \"shan't\", 'shouldn', \"shouldn't\", 'wasn', \"wasn't\", 'weren', \"weren't\", 'won', \"won't\", 'wouldn', \"wouldn't\"]\n"
     ]
    }
   ]
  },
  {
   "cell_type": "code",
   "metadata": {
    "scrolled": true,
    "id": "8llFJv6lKmB2",
    "colab": {
     "base_uri": "https://localhost:8080/"
    },
    "outputId": "b52ed33f-5a46-4b00-d76c-936e6fd2af4c"
   },
   "source": [
    "#TODO: removing stopwords\n",
    "mail_no_stopwords = [word for word in lemmatized_mail if word not in stoplist]\n",
    "print ('Length single email with stopwords = ' + str(len(tokenized_mail)) + ' words')\n",
    "print ('Length single email without stopwords = ' + str(len(mail_no_stopwords)) + ' words')"
   ],
   "execution_count": 39,
   "outputs": [
    {
     "name": "stdout",
     "output_type": "stream",
     "text": [
      "Length single email with stopwords = 186 words\n",
      "Length single email without stopwords = 127 words\n"
     ]
    }
   ]
  },
  {
   "cell_type": "code",
   "metadata": {
    "id": "GmUJePnBKmB4",
    "colab": {
     "base_uri": "https://localhost:8080/"
    },
    "outputId": "626d6747-e7b4-4c37-ca70-d7427306498f"
   },
   "source": [
    "print(tokenized_mail)\n",
    "print('---------------------------------')\n",
    "print(mail_no_stopwords)"
   ],
   "execution_count": 40,
   "outputs": [
    {
     "name": "stdout",
     "output_type": "stream",
     "text": [
      "['subject', ':', 'what', 'up', ',', ',', 'your', 'cam', 'babe', 'what', 'are', 'you', 'looking', 'for', '?', 'if', 'your', 'looking', 'for', 'a', 'companion', 'for', 'friendship', ',', 'love', ',', 'a', 'date', ',', 'or', 'just', 'good', 'ole', \"'\", 'fashioned', '*', '*', '*', '*', '*', '*', ',', 'then', 'try', 'our', 'brand', 'new', 'site', ';', 'it', 'was', 'developed', 'and', 'created', 'to', 'help', 'anyone', 'find', 'what', 'they', \"'\", 're', 'looking', 'for', '.', 'a', 'quick', 'bio', 'form', 'and', 'you', \"'\", 're', 'on', 'the', 'road', 'to', 'satisfaction', 'in', 'every', 'sense', 'of', 'the', 'word', '.', '.', '.', '.', 'no', 'matter', 'what', 'that', 'may', 'be', '!', 'try', 'it', 'out', 'and', 'youll', 'be', 'amazed', '.', 'have', 'a', 'terrific', 'time', 'this', 'evening', 'copy', 'and', 'pa', 'ste', 'the', 'add', '.', 'ress', 'you', 'see', 'on', 'the', 'line', 'below', 'into', 'your', 'browser', 'to', 'come', 'to', 'the', 'site', '.', 'http', ':', '/', '/', 'www', '.', 'meganbang', '.', 'biz', '/', 'bld', '/', 'acc', '/', 'no', 'more', 'plz', 'http', ':', '/', '/', 'www', '.', 'naturalgolden', '.', 'com', '/', 'retract', '/', 'counterattack', 'aitken', 'step', 'preemptive', 'shoehorn', 'scaup', '.', 'electrocardiograph', 'movie', 'honeycomb', '.', 'monster', 'war', 'brandywine', 'pietism', 'byrne', 'catatonia', '.', 'encomia', 'lookup', 'intervenor', 'skeleton', 'turn', 'catfish', '.']\n",
      "---------------------------------\n",
      "['subject', ':', ',', ',', 'cam', 'babe', 'look', '?', 'look', 'companion', 'friendship', ',', 'love', ',', 'date', ',', 'good', 'ole', \"'\", 'fashion', '*', '*', '*', '*', '*', '*', ',', 'try', 'brand', 'new', 'site', ';', 'develop', 'create', 'help', 'anyone', 'find', \"'\", 'look', '.', 'quick', 'bio', 'form', \"'\", 'road', 'satisfaction', 'every', 'sense', 'word', '.', '.', '.', '.', 'matter', 'may', '!', 'try', 'youll', 'amaze', '.', 'terrific', 'time', 'evening', 'copy', 'pa', 'ste', 'add', '.', 'res', 'see', 'line', 'browser', 'come', 'site', '.', 'http', ':', '/', '/', 'www', '.', 'meganbang', '.', 'biz', '/', 'bld', '/', 'acc', '/', 'plz', 'http', ':', '/', '/', 'www', '.', 'naturalgolden', '.', 'com', '/', 'retract', '/', 'counterattack', 'aitken', 'step', 'preemptive', 'shoehorn', 'scaup', '.', 'electrocardiograph', 'movie', 'honeycomb', '.', 'monster', 'war', 'brandywine', 'pietism', 'byrne', 'catatonia', '.', 'encomium', 'lookup', 'intervenor', 'skeleton', 'turn', 'catfish', '.']\n"
     ]
    }
   ]
  },
  {
   "cell_type": "code",
   "metadata": {
    "id": "qfqMpAPEKmB5"
   },
   "source": [
    "#TODO: add some relevant stopwords\n",
    "stoplist += ['g']\n",
    "stoplist += ['r']\n",
    "stoplist += ['e']"
   ],
   "execution_count": 41,
   "outputs": []
  },
  {
   "cell_type": "code",
   "metadata": {
    "id": "CCH7NrhuKmB7"
   },
   "source": [
    "#TODO: removing new stopwords\n",
    "mail_no_stopwords = [word for word in lemmatized_mail if word not in stoplist]"
   ],
   "execution_count": 42,
   "outputs": []
  },
  {
   "cell_type": "code",
   "metadata": {
    "id": "Z0xU6LbkKmB9",
    "colab": {
     "base_uri": "https://localhost:8080/"
    },
    "outputId": "7b6dc9b0-f7cd-4aa7-c79d-d164f5651303"
   },
   "source": [
    "print(tokenized_mail)\n",
    "print('---------------------------------')\n",
    "print(mail_no_stopwords)\n",
    "print('---------------------------------')\n",
    "print ('Length single email without stopwords = ' + str(len(mail_no_stopwords)) + ' words' )"
   ],
   "execution_count": 43,
   "outputs": [
    {
     "name": "stdout",
     "output_type": "stream",
     "text": [
      "['subject', ':', 'what', 'up', ',', ',', 'your', 'cam', 'babe', 'what', 'are', 'you', 'looking', 'for', '?', 'if', 'your', 'looking', 'for', 'a', 'companion', 'for', 'friendship', ',', 'love', ',', 'a', 'date', ',', 'or', 'just', 'good', 'ole', \"'\", 'fashioned', '*', '*', '*', '*', '*', '*', ',', 'then', 'try', 'our', 'brand', 'new', 'site', ';', 'it', 'was', 'developed', 'and', 'created', 'to', 'help', 'anyone', 'find', 'what', 'they', \"'\", 're', 'looking', 'for', '.', 'a', 'quick', 'bio', 'form', 'and', 'you', \"'\", 're', 'on', 'the', 'road', 'to', 'satisfaction', 'in', 'every', 'sense', 'of', 'the', 'word', '.', '.', '.', '.', 'no', 'matter', 'what', 'that', 'may', 'be', '!', 'try', 'it', 'out', 'and', 'youll', 'be', 'amazed', '.', 'have', 'a', 'terrific', 'time', 'this', 'evening', 'copy', 'and', 'pa', 'ste', 'the', 'add', '.', 'ress', 'you', 'see', 'on', 'the', 'line', 'below', 'into', 'your', 'browser', 'to', 'come', 'to', 'the', 'site', '.', 'http', ':', '/', '/', 'www', '.', 'meganbang', '.', 'biz', '/', 'bld', '/', 'acc', '/', 'no', 'more', 'plz', 'http', ':', '/', '/', 'www', '.', 'naturalgolden', '.', 'com', '/', 'retract', '/', 'counterattack', 'aitken', 'step', 'preemptive', 'shoehorn', 'scaup', '.', 'electrocardiograph', 'movie', 'honeycomb', '.', 'monster', 'war', 'brandywine', 'pietism', 'byrne', 'catatonia', '.', 'encomia', 'lookup', 'intervenor', 'skeleton', 'turn', 'catfish', '.']\n",
      "---------------------------------\n",
      "['subject', ':', ',', ',', 'cam', 'babe', 'look', '?', 'look', 'companion', 'friendship', ',', 'love', ',', 'date', ',', 'good', 'ole', \"'\", 'fashion', '*', '*', '*', '*', '*', '*', ',', 'try', 'brand', 'new', 'site', ';', 'develop', 'create', 'help', 'anyone', 'find', \"'\", 'look', '.', 'quick', 'bio', 'form', \"'\", 'road', 'satisfaction', 'every', 'sense', 'word', '.', '.', '.', '.', 'matter', 'may', '!', 'try', 'youll', 'amaze', '.', 'terrific', 'time', 'evening', 'copy', 'pa', 'ste', 'add', '.', 'res', 'see', 'line', 'browser', 'come', 'site', '.', 'http', ':', '/', '/', 'www', '.', 'meganbang', '.', 'biz', '/', 'bld', '/', 'acc', '/', 'plz', 'http', ':', '/', '/', 'www', '.', 'naturalgolden', '.', 'com', '/', 'retract', '/', 'counterattack', 'aitken', 'step', 'preemptive', 'shoehorn', 'scaup', '.', 'electrocardiograph', 'movie', 'honeycomb', '.', 'monster', 'war', 'brandywine', 'pietism', 'byrne', 'catatonia', '.', 'encomium', 'lookup', 'intervenor', 'skeleton', 'turn', 'catfish', '.']\n",
      "---------------------------------\n",
      "Length single email without stopwords = 127 words\n"
     ]
    }
   ]
  },
  {
   "cell_type": "markdown",
   "metadata": {
    "id": "7yxH_WSVKmB_"
   },
   "source": [
    "### Punctuation"
   ]
  },
  {
   "cell_type": "code",
   "metadata": {
    "scrolled": true,
    "id": "2tKTo-AvKmB_",
    "colab": {
     "base_uri": "https://localhost:8080/"
    },
    "outputId": "9a623e7b-15f6-432f-bfc0-de5b6ee435a3"
   },
   "source": [
    "#TODO: create a punctuation list\n",
    "stop_punctuation = [':', '(', ')', '/', '|', ',',\n",
    "                    '.', '*', '#', '\"', '&', '~',\n",
    "                    '-', '_', '\\\\', '@','?','!','\\'']\n",
    "\n",
    "#TODO: removing punctuation & print it\n",
    "mail_clean = [word for word in mail_no_stopwords if word not in stop_punctuation]\n",
    "\n",
    "print(mail_clean)\n",
    "print ('\\nLength single email without stopwords = ' + str(len(mail_clean)) + ' words')"
   ],
   "execution_count": 44,
   "outputs": [
    {
     "name": "stdout",
     "output_type": "stream",
     "text": [
      "['subject', 'cam', 'babe', 'look', 'look', 'companion', 'friendship', 'love', 'date', 'good', 'ole', 'fashion', 'try', 'brand', 'new', 'site', ';', 'develop', 'create', 'help', 'anyone', 'find', 'look', 'quick', 'bio', 'form', 'road', 'satisfaction', 'every', 'sense', 'word', 'matter', 'may', 'try', 'youll', 'amaze', 'terrific', 'time', 'evening', 'copy', 'pa', 'ste', 'add', 'res', 'see', 'line', 'browser', 'come', 'site', 'http', 'www', 'meganbang', 'biz', 'bld', 'acc', 'plz', 'http', 'www', 'naturalgolden', 'com', 'retract', 'counterattack', 'aitken', 'step', 'preemptive', 'shoehorn', 'scaup', 'electrocardiograph', 'movie', 'honeycomb', 'monster', 'war', 'brandywine', 'pietism', 'byrne', 'catatonia', 'encomium', 'lookup', 'intervenor', 'skeleton', 'turn', 'catfish']\n",
      "\n",
      "Length single email without stopwords = 82 words\n"
     ]
    }
   ]
  },
  {
   "cell_type": "code",
   "metadata": {
    "id": "wKQVIdSjia3B"
   },
   "source": [],
   "execution_count": 44,
   "outputs": []
  },
  {
   "cell_type": "markdown",
   "metadata": {
    "id": "frDf7JKUKmCB"
   },
   "source": [
    "## B. Preprocessing all emails"
   ]
  },
  {
   "cell_type": "markdown",
   "metadata": {
    "id": "xABVc2ZGKmCB"
   },
   "source": [
    "### Functions definition "
   ]
  },
  {
   "cell_type": "code",
   "metadata": {
    "id": "HTYGjdBjKmCC"
   },
   "source": [
    "def preprocess(sentence):\n",
    "    \"\"\"\n",
    "    Tokenizes, lowers, and stems\n",
    "    \"\"\"\n",
    "    stemmer = SnowballStemmer('english')\n",
    "    return [stemmer.stem(word.lower()) for word in word_tokenize(sentence)]\n",
    "\n",
    "def get_features(text):\n",
    "    return {word: True for word in preprocess(text) if word not in stoplist and word not in stop_punctuation}\n",
    "\n",
    "def get_features_no_processing(text):\n",
    "    return {word: True for word in word_tokenize(text)}"
   ],
   "execution_count": 48,
   "outputs": []
  },
  {
   "cell_type": "code",
   "metadata": {
    "scrolled": false,
    "id": "nxwYBMY3KmCD",
    "colab": {
     "base_uri": "https://localhost:8080/"
    },
    "outputId": "7dc3ff21-82c9-4fab-f8ee-6e3068b95f67"
   },
   "source": [
    "# extract the features\n",
    "all_features = [(get_features(email), label, data_set) for (email, label,data_set) in all_mails]\n",
    "print ('Collected ' + str(len(all_features)) + ' feature sets')"
   ],
   "execution_count": 49,
   "outputs": [
    {
     "name": "stdout",
     "output_type": "stream",
     "text": [
      "Collected 33716 feature sets\n"
     ]
    }
   ]
  },
  {
   "cell_type": "code",
   "metadata": {
    "id": "RP9n3xdCKmCF",
    "colab": {
     "base_uri": "https://localhost:8080/"
    },
    "outputId": "ee372510-b51e-4ee3-d87b-edcdc0a4fa6c"
   },
   "source": [
    "# extract the features without preprocessing\n",
    "all_raw_features = [(get_features_no_processing(email), label, data_set) for (email, label,data_set) in all_mails]\n",
    "print ('Collected ' + str(len(all_raw_features)) + ' feature sets')"
   ],
   "execution_count": 51,
   "outputs": [
    {
     "name": "stdout",
     "output_type": "stream",
     "text": [
      "Collected 33716 feature sets\n"
     ]
    }
   ]
  },
  {
   "cell_type": "markdown",
   "metadata": {
    "id": "lpZyC3zbKmCn"
   },
   "source": [
    "## III. Vectorization"
   ]
  },
  {
   "cell_type": "markdown",
   "metadata": {
    "id": "5tjnPJdkKmCn"
   },
   "source": [
    "## TFIDF"
   ]
  },
  {
   "cell_type": "code",
   "metadata": {
    "id": "XBwWGg0YKmCo"
   },
   "source": [
    "#getting subject + content\n",
    "def get_subject(text):\n",
    "    return (text.split('\\n', 1)[0]).split('Subject:', 1)[1]\n",
    "\n",
    "def get_content(text):\n",
    "    return text.split('\\n', 1)[1]"
   ],
   "execution_count": 53,
   "outputs": []
  },
  {
   "cell_type": "code",
   "execution_count": 65,
   "outputs": [
    {
     "data": {
      "text/plain": "                                                text\n0  Subject: what up , , your cam babe\\nwhat are y...\n1  Subject: want to make more money ?\\norder conf...\n2  Subject: food for thoughts\\n[\\njoin now - take...\n3  Subject: miningnews . net newsletter - tuesday...\n4  Subject: your pharmacy ta\\nwould you want chea...",
      "text/html": "<div>\n<style scoped>\n    .dataframe tbody tr th:only-of-type {\n        vertical-align: middle;\n    }\n\n    .dataframe tbody tr th {\n        vertical-align: top;\n    }\n\n    .dataframe thead th {\n        text-align: right;\n    }\n</style>\n<table border=\"1\" class=\"dataframe\">\n  <thead>\n    <tr style=\"text-align: right;\">\n      <th></th>\n      <th>text</th>\n    </tr>\n  </thead>\n  <tbody>\n    <tr>\n      <th>0</th>\n      <td>Subject: what up , , your cam babe\\nwhat are y...</td>\n    </tr>\n    <tr>\n      <th>1</th>\n      <td>Subject: want to make more money ?\\norder conf...</td>\n    </tr>\n    <tr>\n      <th>2</th>\n      <td>Subject: food for thoughts\\n[\\njoin now - take...</td>\n    </tr>\n    <tr>\n      <th>3</th>\n      <td>Subject: miningnews . net newsletter - tuesday...</td>\n    </tr>\n    <tr>\n      <th>4</th>\n      <td>Subject: your pharmacy ta\\nwould you want chea...</td>\n    </tr>\n  </tbody>\n</table>\n</div>"
     },
     "execution_count": 65,
     "metadata": {},
     "output_type": "execute_result"
    }
   ],
   "source": [
    "# Let's consider the list of ham emails\n",
    "ham_df = pd.DataFrame({'text': hams})\n",
    "ham_df.head()"
   ],
   "metadata": {
    "collapsed": false,
    "pycharm": {
     "name": "#%%\n"
    }
   }
  },
  {
   "cell_type": "code",
   "metadata": {
    "scrolled": false,
    "id": "gXaXkFy3KmCq",
    "colab": {
     "base_uri": "https://localhost:8080/",
     "height": 142
    },
    "outputId": "23a3ee9e-cb1e-40da-d403-7b9ea664b391"
   },
   "source": [
    "# Let's consider the list of ham emails\n",
    "ham_df = pd.DataFrame({'text':hams})\n",
    "\n",
    "#Extract subject & content\n",
    "ham_df[\"subject\"]=ham_df.text.apply(get_subject)\n",
    "ham_df[\"content\"]=ham_df.text.apply(get_content)\n",
    "\n",
    "ham_df.head(3)"
   ],
   "execution_count": 54,
   "outputs": [
    {
     "data": {
      "text/plain": "                                                text  \\\n0  Subject: what up , , your cam babe\\nwhat are y...   \n1  Subject: want to make more money ?\\norder conf...   \n2  Subject: food for thoughts\\n[\\njoin now - take...   \n\n                      subject  \\\n0   what up , , your cam babe   \n1   want to make more money ?   \n2           food for thoughts   \n\n                                             content  \n0  what are you looking for ?\\nif your looking fo...  \n1  order confirmation . your order should be ship...  \n2  [\\njoin now - take\\na free tour ]\\nclick here ...  ",
      "text/html": "<div>\n<style scoped>\n    .dataframe tbody tr th:only-of-type {\n        vertical-align: middle;\n    }\n\n    .dataframe tbody tr th {\n        vertical-align: top;\n    }\n\n    .dataframe thead th {\n        text-align: right;\n    }\n</style>\n<table border=\"1\" class=\"dataframe\">\n  <thead>\n    <tr style=\"text-align: right;\">\n      <th></th>\n      <th>text</th>\n      <th>subject</th>\n      <th>content</th>\n    </tr>\n  </thead>\n  <tbody>\n    <tr>\n      <th>0</th>\n      <td>Subject: what up , , your cam babe\\nwhat are y...</td>\n      <td>what up , , your cam babe</td>\n      <td>what are you looking for ?\\nif your looking fo...</td>\n    </tr>\n    <tr>\n      <th>1</th>\n      <td>Subject: want to make more money ?\\norder conf...</td>\n      <td>want to make more money ?</td>\n      <td>order confirmation . your order should be ship...</td>\n    </tr>\n    <tr>\n      <th>2</th>\n      <td>Subject: food for thoughts\\n[\\njoin now - take...</td>\n      <td>food for thoughts</td>\n      <td>[\\njoin now - take\\na free tour ]\\nclick here ...</td>\n    </tr>\n  </tbody>\n</table>\n</div>"
     },
     "execution_count": 54,
     "metadata": {},
     "output_type": "execute_result"
    }
   ]
  },
  {
   "cell_type": "code",
   "metadata": {
    "id": "nepZmnOSKmCs"
   },
   "source": [
    "# customize stopwords list\n",
    "stoplist_bis = stoplist + ['enron','hou','ect','cc','thank','pleas','com','said','would','please','kaminski','subject']\n",
    "stop_punctuation = [':', '(', ')', '/', '|', ',',\n",
    "                    '.', '*', '#', '\"', '&', '~',\n",
    "                    '-', '_', '\\\\', '@','?','!']"
   ],
   "execution_count": 55,
   "outputs": []
  },
  {
   "cell_type": "code",
   "metadata": {
    "id": "DNzXJDelKmCv"
   },
   "source": [
    "#clean text\n",
    "def clean_text(text):\n",
    "    # Remove figures\n",
    "    text = re.sub(r'[^a-zA-Z]', ' ', text)\n",
    "    # Tokenization\n",
    "    words = text.lower().split()\n",
    "    stemmer = SnowballStemmer('english')\n",
    "    words = [stemmer.stem(w) for w in words if w not in stoplist and not w in stop_punctuation ]\n",
    "    return ' '.join(words)"
   ],
   "execution_count": 56,
   "outputs": []
  },
  {
   "cell_type": "code",
   "metadata": {
    "scrolled": true,
    "id": "rXiHceyTKmCx",
    "colab": {
     "base_uri": "https://localhost:8080/",
     "height": 193
    },
    "outputId": "408ec435-d8cb-4a6c-fe26-d1dd288713b5"
   },
   "source": [
    "ham_df[\"clean_content\"]=ham_df.content.apply(clean_text)\n",
    "ham_df.head(3)"
   ],
   "execution_count": 57,
   "outputs": [
    {
     "data": {
      "text/plain": "                                                text  \\\n0  Subject: what up , , your cam babe\\nwhat are y...   \n1  Subject: want to make more money ?\\norder conf...   \n2  Subject: food for thoughts\\n[\\njoin now - take...   \n\n                      subject  \\\n0   what up , , your cam babe   \n1   want to make more money ?   \n2           food for thoughts   \n\n                                             content  \\\n0  what are you looking for ?\\nif your looking fo...   \n1  order confirmation . your order should be ship...   \n2  [\\njoin now - take\\na free tour ]\\nclick here ...   \n\n                                       clean_content  \n0  look look companion friendship love date good ...  \n1  order confirm order ship januari via fedex fed...  \n2                    join take free tour click remov  ",
      "text/html": "<div>\n<style scoped>\n    .dataframe tbody tr th:only-of-type {\n        vertical-align: middle;\n    }\n\n    .dataframe tbody tr th {\n        vertical-align: top;\n    }\n\n    .dataframe thead th {\n        text-align: right;\n    }\n</style>\n<table border=\"1\" class=\"dataframe\">\n  <thead>\n    <tr style=\"text-align: right;\">\n      <th></th>\n      <th>text</th>\n      <th>subject</th>\n      <th>content</th>\n      <th>clean_content</th>\n    </tr>\n  </thead>\n  <tbody>\n    <tr>\n      <th>0</th>\n      <td>Subject: what up , , your cam babe\\nwhat are y...</td>\n      <td>what up , , your cam babe</td>\n      <td>what are you looking for ?\\nif your looking fo...</td>\n      <td>look look companion friendship love date good ...</td>\n    </tr>\n    <tr>\n      <th>1</th>\n      <td>Subject: want to make more money ?\\norder conf...</td>\n      <td>want to make more money ?</td>\n      <td>order confirmation . your order should be ship...</td>\n      <td>order confirm order ship januari via fedex fed...</td>\n    </tr>\n    <tr>\n      <th>2</th>\n      <td>Subject: food for thoughts\\n[\\njoin now - take...</td>\n      <td>food for thoughts</td>\n      <td>[\\njoin now - take\\na free tour ]\\nclick here ...</td>\n      <td>join take free tour click remov</td>\n    </tr>\n  </tbody>\n</table>\n</div>"
     },
     "execution_count": 57,
     "metadata": {},
     "output_type": "execute_result"
    }
   ]
  },
  {
   "cell_type": "code",
   "metadata": {
    "id": "NTXCNYwLKmCy"
   },
   "source": [
    "tfidf = TfidfVectorizer(analyzer='word', stop_words=None, max_df=0.3, min_df=5)\n",
    "tfidf_fit = tfidf.fit_transform(ham_df.clean_content)\n",
    "feature = tfidf.get_feature_names()\n",
    "feature"
   ],
   "execution_count": 64,
   "outputs": [
    {
     "data": {
      "text/plain": "['aa',\n 'aaron',\n 'ab',\n 'aba',\n 'abacus',\n 'abacustech',\n 'abat',\n 'abb',\n 'abbot',\n 'abbott',\n 'abc',\n 'abdomin',\n 'abel',\n 'abet',\n 'abiiiti',\n 'abil',\n 'abl',\n 'abnorm',\n 'aboard',\n 'abroad',\n 'absenc',\n 'absent',\n 'absolut',\n 'absorb',\n 'abstract',\n 'abund',\n 'abus',\n 'ac',\n 'acceler',\n 'accent',\n 'accentu',\n 'accept',\n 'access',\n 'accessori',\n 'accommod',\n 'accomod',\n 'accompani',\n 'accomplish',\n 'accord',\n 'account',\n 'accredit',\n 'accret',\n 'accru',\n 'accrual',\n 'acctg',\n 'accumui',\n 'accumul',\n 'accur',\n 'accuraci',\n 'accus',\n 'ach',\n 'acheiv',\n 'achiev',\n 'acid',\n 'acidul',\n 'acknowledg',\n 'acock',\n 'acquir',\n 'acquisit',\n 'acr',\n 'acrobat',\n 'across',\n 'acryl',\n 'act',\n 'action',\n 'activ',\n 'acton',\n 'actua',\n 'actual',\n 'acyclovir',\n 'ad',\n 'adam',\n 'adapt',\n 'add',\n 'addit',\n 'additiona',\n 'address',\n 'addresse',\n 'adequ',\n 'adio',\n 'adipex',\n 'adipren',\n 'adjust',\n 'admin',\n 'administ',\n 'administr',\n 'admir',\n 'admit',\n 'adob',\n 'adolesc',\n 'adoni',\n 'adopt',\n 'adult',\n 'advanc',\n 'advantag',\n 'adventur',\n 'advers',\n 'advertis',\n 'advic',\n 'advis',\n 'advisor',\n 'advisori',\n 'ae',\n 'aeor',\n 'aep',\n 'aepin',\n 'aesthet',\n 'affair',\n 'affect',\n 'affiiiat',\n 'affili',\n 'affirm',\n 'afford',\n 'aforement',\n 'afraid',\n 'africa',\n 'aftermath',\n 'afternoon',\n 'agat',\n 'age',\n 'agenc',\n 'agenda',\n 'agent',\n 'aggi',\n 'aggreg',\n 'aggress',\n 'agmt',\n 'ago',\n 'agra',\n 'agre',\n 'agreement',\n 'agricultur',\n 'agua',\n 'aguayo',\n 'ahead',\n 'aid',\n 'ail',\n 'aim',\n 'aime',\n 'air',\n 'aireadi',\n 'airlin',\n 'airmail',\n 'airmass',\n 'airplan',\n 'airport',\n 'aiso',\n 'aiway',\n 'aka',\n 'akin',\n 'al',\n 'alan',\n 'alaska',\n 'alberta',\n 'albrecht',\n 'alcohol',\n 'aldermen',\n 'alert',\n 'alex',\n 'alexand',\n 'alga',\n 'algorithm',\n 'ali',\n 'alia',\n 'alien',\n 'align',\n 'alik',\n 'aliquot',\n 'aliv',\n 'all',\n 'allan',\n 'alland',\n 'alleg',\n 'allen',\n 'allergi',\n 'allevi',\n 'alli',\n 'allianc',\n 'allison',\n 'alliter',\n 'alloc',\n 'allocat',\n 'allot',\n 'allow',\n 'almagest',\n 'almost',\n 'alon',\n 'along',\n 'alot',\n 'aloud',\n 'alp',\n 'alpha',\n 'alphabet',\n 'alpin',\n 'alreadi',\n 'also',\n 'alt',\n 'alter',\n 'altern',\n 'although',\n 'alvin',\n 'alway',\n 'amanda',\n 'amateur',\n 'amaz',\n 'amazon',\n 'ambien',\n 'ambient',\n 'amblen',\n 'ameli',\n 'amelia',\n 'amend',\n 'amerada',\n 'america',\n 'american',\n 'amherst',\n 'ami',\n 'amin',\n 'amoco',\n 'among',\n 'amount',\n 'amp',\n 'amplifi',\n 'amsterdam',\n 'amus',\n 'ana',\n 'anadarko',\n 'analog',\n 'analysi',\n 'analyst',\n 'analyt',\n 'analyz',\n 'anchorit',\n 'ancient',\n 'anderson',\n 'andi',\n 'andrea',\n 'andrew',\n 'angel',\n 'angela',\n 'angi',\n 'anglo',\n 'anilin',\n 'anim',\n 'aninher',\n 'aniseikon',\n 'anita',\n 'ann',\n 'anna',\n 'annal',\n 'annett',\n 'annihil',\n 'anniversari',\n 'announc',\n 'annoy',\n 'annual',\n 'anonym',\n 'anoth',\n 'anp',\n 'answer',\n 'antenna',\n 'anterior',\n 'anthoni',\n 'anthropomorph',\n 'anti',\n 'anticip',\n 'antiqu',\n 'antisemit',\n 'antivirus',\n 'antler',\n 'antoin',\n 'antoinett',\n 'antonio',\n 'anxieti',\n 'anxious',\n 'anybodi',\n 'anymor',\n 'anyon',\n 'anyth',\n 'anytim',\n 'anyway',\n 'anywher',\n 'ao',\n 'aol',\n 'aopen',\n 'ap',\n 'apach',\n 'apap',\n 'apapl',\n 'apart',\n 'apc',\n 'apolog',\n 'app',\n 'appar',\n 'appeal',\n 'appear',\n 'appeas',\n 'appetit',\n 'appl',\n 'appli',\n 'applianc',\n 'applic',\n 'appoint',\n 'appr',\n 'apprais',\n 'appreci',\n 'appris',\n 'approach',\n 'appropri',\n 'approv',\n 'approx',\n 'approxim',\n 'apr',\n 'april',\n 'aquarius',\n 'aquila',\n 'ar',\n 'arab',\n 'arafat',\n 'archaic',\n 'archer',\n 'architect',\n 'architectur',\n 'archiv',\n 'arduous',\n 'area',\n 'arena',\n 'areveffo',\n 'arg',\n 'argu',\n 'argument',\n 'arial',\n 'aris',\n 'arizona',\n 'arm',\n 'armi',\n 'armstrong',\n 'around',\n 'arous',\n 'arrang',\n 'arriv',\n 'arrog',\n 'arrow',\n 'art',\n 'arthriti',\n 'arthur',\n 'arti',\n 'articl',\n 'artwork',\n 'aruba',\n 'asap',\n 'ascend',\n 'ascii',\n 'ashland',\n 'ashley',\n 'ashman',\n 'asia',\n 'asid',\n 'ask',\n 'asp',\n 'aspect',\n 'asphyxi',\n 'aspir',\n 'ass',\n 'assembl',\n 'assess',\n 'asset',\n 'assign',\n 'assist',\n 'associ',\n 'assort',\n 'assum',\n 'assumpt',\n 'assur',\n 'ast',\n 'astonish',\n 'astronom',\n 'asylum',\n 'ate',\n 'athlet',\n 'ation',\n 'ativan',\n 'atkin',\n 'atlant',\n 'atlanta',\n 'atleast',\n 'atm',\n 'atmospher',\n 'atom',\n 'att',\n 'attach',\n 'attack',\n 'attempt',\n 'attend',\n 'attende',\n 'attent',\n 'attitud',\n 'attl',\n 'attn',\n 'attorney',\n 'attract',\n 'attribut',\n 'au',\n 'auburndal',\n 'auction',\n 'audienc',\n 'audio',\n 'audit',\n 'auditor',\n 'audrey',\n 'aug',\n 'august',\n 'austin',\n 'australia',\n 'authent',\n 'author',\n 'authoris',\n 'auto',\n 'autodesk',\n 'autom',\n 'automat',\n 'automobil',\n 'autonom',\n 'av',\n 'avaiiabi',\n 'avaiiabl',\n 'avail',\n 'ave',\n 'avenu',\n 'averag',\n 'avert',\n 'avg',\n 'avi',\n 'avila',\n 'avoc',\n 'avoid',\n 'aw',\n 'await',\n 'awaken',\n 'awar',\n 'award',\n 'away',\n 'awesom',\n 'awhil',\n 'ax',\n 'ay',\n 'aybar',\n 'aye',\n 'azurix',\n 'ba',\n 'babe',\n 'babi',\n 'babysit',\n 'bachelor',\n 'back',\n 'background',\n 'backlog',\n 'backup',\n 'backward',\n 'bad',\n 'badg',\n 'bag',\n 'bahama',\n 'baker',\n 'bakeri',\n 'balanc',\n 'balfour',\n 'ball',\n 'ballard',\n 'ballot',\n 'baltic',\n 'balustrad',\n 'bammel',\n 'bammelyoungfamili',\n 'ban',\n 'band',\n 'bandwidth',\n 'bane',\n 'bang',\n 'bank',\n 'bankrupt',\n 'bankruptci',\n 'banner',\n 'baptist',\n 'bar',\n 'barbado',\n 'barbara',\n 'barcelona',\n 'barg',\n 'barn',\n 'baron',\n 'barrel',\n 'barrett',\n 'barri',\n 'bart',\n 'base',\n 'baseload',\n 'baseman',\n 'basi',\n 'basic',\n 'basin',\n 'basket',\n 'basketbal',\n 'bass',\n 'bassinet',\n 'batch',\n 'bate',\n 'bath',\n 'batteri',\n 'battl',\n 'baumbach',\n 'bauxit',\n 'bav',\n 'baxter',\n 'bay',\n 'baylor',\n 'bayou',\n 'bayport',\n 'bb',\n 'bc',\n 'bcc',\n 'beach',\n 'beal',\n 'bean',\n 'bear',\n 'beard',\n 'beat',\n 'beati',\n 'beaumont',\n 'beauti',\n 'becam',\n 'beck',\n 'becki',\n 'beckon',\n 'becom',\n 'bed',\n 'bedim',\n 'bedridden',\n 'bedspread',\n 'beemer',\n 'beer',\n 'befit',\n 'beg',\n 'began',\n 'begin',\n 'beguil',\n 'begun',\n 'behalf',\n 'behav',\n 'behavior',\n 'behind',\n 'beiiev',\n 'bel',\n 'belch',\n 'beleiv',\n 'belief',\n 'believ',\n 'beliz',\n 'bell',\n 'bellami',\n 'bellow',\n 'belong',\n 'belt',\n 'beman',\n 'ben',\n 'bend',\n 'beneath',\n 'benedict',\n 'benefici',\n 'beneficiari',\n 'benefit',\n 'benjamin',\n 'bennett',\n 'bennick',\n 'benoit',\n 'benson',\n 'bequest',\n 'bereav',\n 'berk',\n 'bernstein',\n 'bertram',\n 'besid',\n 'best',\n 'bestow',\n 'bet',\n 'beth',\n 'betray',\n 'better',\n 'betti',\n 'bev',\n 'bever',\n 'bewar',\n 'beyond',\n 'bezel',\n 'bgcolor',\n 'bherod',\n 'bi',\n 'biank',\n 'bias',\n 'bibi',\n 'bibl',\n 'biblic',\n 'bicep',\n 'bid',\n 'bidirect',\n 'bidweek',\n 'big',\n 'bigger',\n 'biggest',\n 'biilion',\n 'bike',\n 'bilberri',\n 'bilinear',\n 'bill',\n 'billi',\n 'billion',\n 'bin',\n 'binari',\n 'bind',\n 'bingham',\n 'binghamton',\n 'biolog',\n 'bird',\n 'birk',\n 'birth',\n 'birthday',\n 'bisqu',\n 'bit',\n 'biz',\n 'bl',\n 'black',\n 'blackout',\n 'blake',\n 'blanca',\n 'blanch',\n 'blanchard',\n 'blancpain',\n 'bland',\n 'blank',\n 'blast',\n 'blay',\n 'blend',\n 'bless',\n 'blest',\n 'blevin',\n 'blink',\n 'blk',\n 'block',\n 'blocki',\n 'blog',\n 'blood',\n 'bloodbath',\n 'blow',\n 'blown',\n 'blue',\n 'bluedolphin',\n 'bluish',\n 'bluster',\n 'blusteri',\n 'blvd',\n 'bmw',\n 'bo',\n 'boa',\n 'board',\n 'boat',\n 'bob',\n 'bobbi',\n 'boca',\n 'bodi',\n 'bodybuild',\n 'boe',\n 'bog',\n 'bold',\n 'bond',\n 'bone',\n 'bonus',\n 'book',\n 'bookbind',\n 'bookend',\n 'boom',\n 'boost',\n 'boot',\n 'booth',\n 'bootleg',\n 'border',\n 'bore',\n 'borland',\n 'born',\n 'borneo',\n 'borrow',\n 'boss',\n 'boston',\n 'bother',\n 'bottl',\n 'bottom',\n 'boudar',\n 'bought',\n 'boul',\n 'boulevard',\n 'bounc',\n 'bound',\n 'boundari',\n 'bow',\n 'bowen',\n 'bowi',\n 'bowl',\n 'box',\n 'boy',\n 'boyc',\n 'bp',\n 'br',\n 'braband',\n 'brackett',\n 'brad',\n 'bradford',\n 'bradi',\n 'bradley',\n 'bradshaw',\n 'brain',\n 'brambl',\n 'branch',\n 'brand',\n 'brande',\n 'brandi',\n 'brandon',\n 'brandywin',\n 'brant',\n 'bravado',\n 'brave',\n 'brazaiti',\n 'brazil',\n 'brazo',\n 'brazoria',\n 'brbr',\n 'brcc',\n 'breach',\n 'break',\n 'breakdown',\n 'breakfast',\n 'breakout',\n 'breastplat',\n 'breath',\n 'breguet',\n 'breitl',\n 'brenda',\n 'brennan',\n 'brent',\n 'breslau',\n 'bretz',\n 'brewer',\n 'brex',\n 'brfont',\n 'brian',\n 'bridg',\n 'bridgeback',\n 'bridgelin',\n 'bridgett',\n 'brief',\n 'briefli',\n 'bright',\n 'briley',\n 'bring',\n 'british',\n 'broad',\n 'broadband',\n 'broadcast',\n 'broadway',\n 'brochur',\n 'brock',\n 'broken',\n 'broker',\n 'brokerag',\n 'bronco',\n 'broth',\n 'brother',\n 'brought',\n 'brown',\n 'brows',\n 'browser',\n 'bruce',\n 'bryan',\n 'bryant',\n 'bryce',\n 'btu',\n 'bu',\n 'bubert',\n 'buchanan',\n 'buck',\n 'bucket',\n 'buckley',\n 'bud',\n 'buddi',\n 'budget',\n 'bueno',\n 'bug',\n 'bugl',\n 'build',\n 'builder',\n 'built',\n 'bulk',\n 'bull',\n 'bulletin',\n 'bum',\n 'bump',\n 'bundl',\n 'bupropion',\n 'burden',\n 'buri',\n 'burk',\n 'burn',\n 'burp',\n 'burst',\n 'bus',\n 'busbi',\n 'bush',\n 'busi',\n 'buspar',\n 'buss',\n 'bussel',\n 'butalbit',\n 'butan',\n 'butt',\n 'button',\n 'buy',\n 'buyback',\n 'buyer',\n 'bv',\n 'bvlgari',\n 'bye',\n 'bylin',\n 'bypass',\n 'byroad',\n 'byron',\n 'byte',\n 'byzantin',\n 'bze',\n 'ca',\n 'cabinet',\n 'cabl',\n 'cackl',\n 'caddi',\n 'cadenza',\n 'caffein',\n 'cail',\n 'cakewalk',\n 'cal',\n 'calam',\n 'calcagno',\n 'calcit',\n 'calcul',\n 'calendar',\n 'calgari',\n 'calibr',\n 'california',\n 'call',\n 'calor',\n 'calpin',\n 'calvert',\n 'calvin',\n 'cambric',\n 'camden',\n 'came',\n 'camera',\n 'cameron',\n 'camill',\n 'camp',\n 'campaign',\n 'campbel',\n 'campo',\n 'campus',\n 'canada',\n 'canadian',\n 'cancel',\n 'cancer',\n 'candac',\n 'candi',\n 'candid',\n 'cannon',\n 'cannot',\n 'canon',\n 'cantrel',\n 'cap',\n 'capabl',\n 'capac',\n 'capit',\n 'capsul',\n 'captain',\n 'captainci',\n 'captur',\n 'car',\n 'carbid',\n 'carbon',\n 'card',\n 'cardin',\n 'care',\n 'career',\n 'carey',\n 'cargo',\n 'caribbean',\n 'carisoprodol',\n 'carl',\n 'carlo',\n 'carol',\n 'carolina',\n 'carolyn',\n 'carous',\n 'carri',\n 'carrier',\n 'carrizo',\n 'cart',\n 'carter',\n 'carthag',\n 'cartier',\n 'cartograph',\n 'carton',\n 'cartoon',\n 'cartridg',\n 'cartwheel',\n 'case',\n 'casework',\n 'casey',\n 'cash',\n 'cashout',\n 'casino',\n 'cass',\n 'cast',\n 'casual',\n 'casualti',\n 'cat',\n 'catalog',\n 'catalogu',\n 'catastroph',\n 'catch',\n 'catech',\n 'categori',\n 'cater',\n 'catherin',\n 'cathi',\n 'cation',\n 'cattl',\n 'caught',\n 'caus',\n 'causat',\n 'causey',\n 'caution',\n 'cautious',\n 'cavern',\n 'cavil',\n 'cb',\n 'cbs',\n 'cc',\n 'ccgm',\n 'ccs',\n 'cd',\n 'cdnow',\n 'cdrw',\n 'cds',\n 'ce',\n 'ceas',\n 'cec',\n 'cecilia',\n 'celanes',\n 'celebr',\n 'celebrex',\n 'cell',\n 'cellpad',\n 'cellspac',\n 'cellular',\n 'census',\n 'cent',\n 'centana',\n 'center',\n 'centera',\n 'centerfont',\n 'centr',\n 'central',\n 'centrifug',\n 'centuri',\n 'ceo',\n 'cernosek',\n 'certain',\n 'certif',\n 'certifi',\n 'ces',\n 'cf',\n 'cgi',\n 'ch',\n 'chad',\n 'chain',\n 'chair',\n 'chairman',\n 'chalcedoni',\n 'challeng',\n 'chamber',\n 'champ',\n 'champion',\n 'chanc',\n 'chanel',\n 'chang',\n 'channel',\n ...]"
     },
     "execution_count": 64,
     "metadata": {},
     "output_type": "execute_result"
    }
   ]
  },
  {
   "cell_type": "markdown",
   "metadata": {
    "id": "nlGYY0wSKmC0"
   },
   "source": [
    "### Idea to go further on content analysis"
   ]
  },
  {
   "cell_type": "markdown",
   "metadata": {
    "id": "mcvL7F77KmC0"
   },
   "source": [
    "Use a Kmeans algorithm to identify cluster based on TFIDF results"
   ]
  },
  {
   "cell_type": "code",
   "metadata": {
    "id": "mqIrOObgKmC0"
   },
   "source": [
    "#TODO: define a KMeans classifier + fit the tfidf_fit\n",
    "#classifier N = 4\n",
    "clf = KMeans(n_clusters=4, max_iter=50)\n",
    "labels = clf.fit_predict(tfidf_fit)"
   ],
   "execution_count": 60,
   "outputs": []
  },
  {
   "cell_type": "code",
   "metadata": {
    "id": "sagcAro4KmC2"
   },
   "source": [
    "ham_df['cluster'] = labels"
   ],
   "execution_count": 61,
   "outputs": []
  },
  {
   "cell_type": "code",
   "metadata": {
    "id": "luVqPO6DKmC4"
   },
   "source": [
    "#to show in 2D\n",
    "tfidf_fit_2d = tfidf_fit.todense()\n",
    "pca = PCA(n_components=2).fit(tfidf_fit_2d)\n",
    "datapoint = pca.transform(tfidf_fit_2d)"
   ],
   "execution_count": 62,
   "outputs": []
  },
  {
   "cell_type": "code",
   "execution_count": 67,
   "outputs": [
    {
     "data": {
      "text/plain": "PCA(n_components=2)"
     },
     "execution_count": 67,
     "metadata": {},
     "output_type": "execute_result"
    }
   ],
   "source": [
    "pca"
   ],
   "metadata": {
    "collapsed": false,
    "pycharm": {
     "name": "#%%\n"
    }
   }
  },
  {
   "cell_type": "code",
   "metadata": {
    "scrolled": false,
    "id": "1Q8rojzrKmC6",
    "colab": {
     "base_uri": "https://localhost:8080/",
     "height": 265
    },
    "outputId": "d5f32b4c-9ed8-49f4-c64c-f27b80aea281"
   },
   "source": [
    "label = [\"#e05f14\", \"#e0dc14\", \"#2fe014\", \"#14d2e0\"]\n",
    "color = [label[i] for i in labels]\n",
    "plt.scatter(datapoint[:, 0], datapoint[:, 1], c=color)\n",
    "\n",
    "centroids = clf.cluster_centers_\n",
    "centroidpoint = pca.transform(centroids)\n",
    "plt.scatter(centroidpoint[:, 0], centroidpoint[:, 1], marker='^', s=150, c='#000000')\n",
    "plt.show()"
   ],
   "execution_count": 63,
   "outputs": [
    {
     "data": {
      "text/plain": "<Figure size 640x480 with 1 Axes>",
      "image/png": "[encoded data removed]"
     },
     "metadata": {},
     "output_type": "display_data"
    }
   ]
  },
  {
   "cell_type": "markdown",
   "metadata": {
    "id": "3-zLjEINKmDE"
   },
   "source": [
    "## Let's try to use word2vec"
   ]
  },
  {
   "cell_type": "markdown",
   "metadata": {
    "id": "WF28CA9iKmDE"
   },
   "source": [
    "Useful link for Word2Vec API : https://radimrehurek.com/gensim/models/word2vec.html"
   ]
  },
  {
   "cell_type": "code",
   "metadata": {
    "id": "xdHKIxivKmDE"
   },
   "source": [
    "#TODO : create a Word2vect space using all ham emails\n",
    "content = Word2Vec([word_tokenize(ham) for ham in hams], window=5)"
   ],
   "execution_count": 69,
   "outputs": []
  },
  {
   "cell_type": "code",
   "metadata": {
    "id": "ihKsZWGDKmDH",
    "colab": {
     "base_uri": "https://localhost:8080/"
    },
    "outputId": "6554417d-c255-412c-bc60-4b17056720f0"
   },
   "source": [
    "#TODO: find most similar word for hello\n",
    "content.wv.most_similar('enron')"
   ],
   "execution_count": 70,
   "outputs": [
    {
     "data": {
      "text/plain": "[('tom', 0.7166849970817566),\n ('pat', 0.7074065208435059),\n ('clynes', 0.6933135390281677),\n ('acton', 0.6919487118721008),\n ('chokshi', 0.6599977612495422),\n ('griffin', 0.6444367170333862),\n ('mary', 0.6436408758163452),\n ('flavin', 0.6404175162315369),\n ('corp', 0.6365158557891846),\n ('rebecca', 0.6364901065826416)]"
     },
     "execution_count": 70,
     "metadata": {},
     "output_type": "execute_result"
    }
   ]
  },
  {
   "cell_type": "code",
   "metadata": {
    "id": "yRrROjhPKmDI",
    "colab": {
     "base_uri": "https://localhost:8080/"
    },
    "outputId": "86dd25dd-b4d3-4874-a2d6-14ddacfec4ad"
   },
   "source": [
    "#TODO: find most similar word for hpay\n",
    "content.wv.most_similar('pay')"
   ],
   "execution_count": 71,
   "outputs": [
    {
     "data": {
      "text/plain": "[('stay', 0.763365626335144),\n ('take', 0.7462420463562012),\n ('share', 0.7446545958518982),\n ('pull', 0.7363286018371582),\n ('receive', 0.7302340269088745),\n ('buy', 0.7289506196975708),\n ('money', 0.7252339720726013),\n ('sell', 0.717952311038971),\n ('charge', 0.7160916924476624),\n ('bring', 0.7144665718078613)]"
     },
     "execution_count": 71,
     "metadata": {},
     "output_type": "execute_result"
    }
   ]
  },
  {
   "cell_type": "code",
   "metadata": {
    "id": "6GDEkRD3KmDK",
    "colab": {
     "base_uri": "https://localhost:8080/"
    },
    "outputId": "45c62d84-2c53-4f68-f41a-5bff35126588"
   },
   "source": [
    "#TODO: find most similar word for a punctuation\n",
    "content.wv.most_similar('.')"
   ],
   "execution_count": 72,
   "outputs": [
    {
     "data": {
      "text/plain": "[('crodrig', 0.4768805503845215),\n ('moosq', 0.45713478326797485),\n ('again', 0.4467971920967102),\n ('correct', 0.433024138212204),\n ('amazon', 0.4320002794265747),\n ('745', 0.43051308393478394),\n ('reached', 0.42132657766342163),\n ('notice', 0.4181802570819855),\n ('also', 0.4153989255428314),\n ('received', 0.4153888523578644)]"
     },
     "execution_count": 72,
     "metadata": {},
     "output_type": "execute_result"
    }
   ]
  },
  {
   "cell_type": "code",
   "metadata": {
    "id": "tmsq8m-WKmDL",
    "colab": {
     "base_uri": "https://localhost:8080/"
    },
    "outputId": "dbe14be5-7bf3-4eec-87e2-de1a97a01000"
   },
   "source": [
    "#TODO: show the vector of one word\n",
    "content.wv['king']"
   ],
   "execution_count": 73,
   "outputs": [
    {
     "data": {
      "text/plain": "array([-2.15994924e-01,  4.43166643e-01, -2.10246488e-01, -3.76376271e-01,\n        1.39238283e-01, -5.46150133e-02,  1.50111467e-01,  4.00714695e-01,\n        9.40237567e-02,  2.26727556e-02, -6.06109321e-01, -5.25927722e-01,\n        1.04698360e-01, -1.13424346e-01, -2.81241208e-01, -2.98000693e-01,\n       -2.61494070e-01, -2.70248711e-01,  2.98737168e-01, -7.93635428e-01,\n        2.28365153e-01,  3.24696720e-01,  6.43690377e-02,  1.58306018e-01,\n       -3.95633847e-01, -1.02505289e-01, -3.92381139e-02, -1.64815649e-01,\n        1.92602780e-02, -1.70934156e-01,  3.42947547e-04,  2.78160006e-01,\n        2.16530040e-01, -2.83714145e-01, -3.31760556e-01,  2.92641640e-01,\n        3.35729778e-01, -2.73187816e-01, -2.18580365e-01, -1.54454648e-01,\n       -2.48740703e-01, -1.20649412e-01,  1.35743275e-01,  1.45751715e-01,\n        3.28219801e-01,  2.72831857e-01, -5.59333079e-02, -2.78785944e-01,\n       -9.29147825e-02, -5.83837330e-02, -4.26175557e-02,  8.54104906e-02,\n        4.01736528e-01,  6.78314269e-02, -6.85212374e-01, -2.24652573e-01,\n       -1.21238716e-01, -6.58309400e-01,  2.95313746e-01,  8.48178864e-02,\n        1.14307389e-01,  5.46945035e-02, -6.35556579e-02, -3.34776312e-01,\n       -1.65789843e-01, -1.85142577e-01,  1.05487153e-01,  2.87199974e-01,\n       -3.69454741e-01,  2.83814818e-01,  6.67014495e-02,  2.53016889e-01,\n        2.20661506e-01,  1.71251103e-01,  1.54195368e-01,  4.14345264e-01,\n       -7.01658204e-02,  1.59590021e-01, -1.18035249e-01,  1.37615889e-01,\n       -8.16174448e-02, -3.31577241e-01, -3.29374135e-01,  3.74971777e-01,\n       -2.47090235e-01,  1.60048250e-02, -1.18570805e-01,  5.57832479e-01,\n       -4.83743668e-01, -3.69011730e-01,  4.38533016e-02, -1.80585861e-01,\n       -7.18799755e-02,  3.91551293e-03,  2.45242894e-01,  6.98438957e-02,\n        2.68460661e-01, -3.03324938e-01,  1.64423048e-01,  2.74791360e-01],\n      dtype=float32)"
     },
     "execution_count": 73,
     "metadata": {},
     "output_type": "execute_result"
    }
   ]
  },
  {
   "cell_type": "code",
   "metadata": {
    "id": "3UNa-pVCKmDM",
    "colab": {
     "base_uri": "https://localhost:8080/",
     "height": 89
    },
    "outputId": "dbb9fd2f-02f8-4c75-c584-4a21514da951"
   },
   "source": [
    "#TODO: find the word which doesn't match in {pay, money, cash, start}\n",
    "content.wv.doesnt_match('pay money cash start'.split(' '))"
   ],
   "execution_count": 74,
   "outputs": [
    {
     "data": {
      "text/plain": "'cash'"
     },
     "execution_count": 74,
     "metadata": {},
     "output_type": "execute_result"
    }
   ]
  },
  {
   "cell_type": "code",
   "metadata": {
    "id": "Isq7YO_HKmDO"
   },
   "source": [],
   "execution_count": null,
   "outputs": []
  },
  {
   "cell_type": "markdown",
   "metadata": {
    "id": "6XMwHurRKmC7"
   },
   "source": [
    "## How to characterize each cluster"
   ]
  },
  {
   "cell_type": "markdown",
   "metadata": {
    "id": "tt6V17dwKmC7"
   },
   "source": [
    "In this part, we will define two helpful functions to describe the clusters we've found\n",
    "<br/> We will print a wordcloud containing the most frequent words"
   ]
  },
  {
   "cell_type": "code",
   "metadata": {
    "id": "xzsFzw2nKmC8"
   },
   "source": [
    "# word occurence dictionary\n",
    "def word_count(A,threshold):\n",
    "    \"\"\"\n",
    "    This function computes occurrences of words in A\n",
    "    But keeps only words with frequency above threshold\n",
    "    \n",
    "    Args :\n",
    "        A (list): list of words in the verbatim\n",
    "        threshold (float) : threshold beneath which the word is not kept (in % of max frequency)\n",
    "        \n",
    "    Returns :\n",
    "        d_select (dict) : frequency dict with a subset of words\n",
    "    \"\"\"\n",
    "    print(len(A))\n",
    "    d_all = Counter(A)\n",
    "    max_freq = max(d_all.values())\n",
    "    d_select = {k:v for (k,v) in d_all.items() if v>threshold*max_freq}\n",
    "    return d_select"
   ],
   "execution_count": null,
   "outputs": []
  },
  {
   "cell_type": "code",
   "metadata": {
    "id": "NZvmKEDtKmC9"
   },
   "source": [
    "def plot_wordcloud_for_cluster(df_in, cluster_id, threshold):\n",
    "    \"\"\"\n",
    "    This function computes word frequencies and plots a wordcloud\n",
    "    for all the verbatims contained in a given cluster\n",
    "    \n",
    "    Args :\n",
    "        df_in (pandas.DataFrame) : input dataframe containing verbatims and their cluster\n",
    "        cluster_id : identification number of the studied cluster\n",
    "        threshold : frequency threshold to keep a word\n",
    "    \n",
    "    Returns :\n",
    "        d_frequency : frequency dict\n",
    "    \"\"\"\n",
    "    \n",
    "    # filter verbatims according to cluster\n",
    "    df_in_cluster = df_in[df_in['cluster']==cluster_id]\n",
    "    \n",
    "    # Compute word frequency\n",
    "    wc = word_count(' '.join(df_in_cluster['clean_content']).split(),threshold)\n",
    "    wordcloud = WordCloud(background_color = 'white').fit_words(wc)\n",
    "\n",
    "    # Generate plot\n",
    "    plt.title(\"Most frequent words in cluster \" + str(cluster_id))\n",
    "    plt.imshow(wordcloud)\n",
    "    plt.axis(\"off\")\n",
    "    plt.show()\n",
    "    \n",
    "    return wc"
   ],
   "execution_count": null,
   "outputs": []
  },
  {
   "cell_type": "code",
   "metadata": {
    "scrolled": true,
    "id": "yrF3RxAcKmC_",
    "colab": {
     "base_uri": "https://localhost:8080/",
     "height": 231
    },
    "outputId": "4927b4e0-a1ca-4aaf-ca08-9db4fbab53ee"
   },
   "source": [
    "#TODO: create a wordcloud for each cluster\n",
    "wc = plot_wordcloud_for_cluster(ham_df,0,0.22)"
   ],
   "execution_count": null,
   "outputs": [
    {
     "output_type": "stream",
     "name": "stdout",
     "text": [
      "20112\n"
     ]
    },
    {
     "output_type": "display_data",
     "data": {
      "image/png": "[encoded data removed]",
      "text/plain": [
       "<Figure size 432x288 with 1 Axes>"
      ]
     },
     "metadata": {
      "needs_background": "light"
     }
    }
   ]
  },
  {
   "cell_type": "code",
   "metadata": {
    "colab": {
     "base_uri": "https://localhost:8080/",
     "height": 562
    },
    "id": "7dMnH5zPqFf9",
    "outputId": "1d538ef0-bf9f-443b-afe1-b5f559b8bf6f"
   },
   "source": [
    "wc = plot_wordcloud_for_cluster(spams_df,0,0.22)"
   ],
   "execution_count": null,
   "outputs": [
    {
     "output_type": "error",
     "ename": "KeyError",
     "evalue": "ignored",
     "traceback": [
      "\u001B[0;31m---------------------------------------------------------------------------\u001B[0m",
      "\u001B[0;31mKeyError\u001B[0m                                  Traceback (most recent call last)",
      "\u001B[0;32m/usr/local/lib/python3.7/dist-packages/pandas/core/indexes/base.py\u001B[0m in \u001B[0;36mget_loc\u001B[0;34m(self, key, method, tolerance)\u001B[0m\n\u001B[1;32m   2897\u001B[0m             \u001B[0;32mtry\u001B[0m\u001B[0;34m:\u001B[0m\u001B[0;34m\u001B[0m\u001B[0;34m\u001B[0m\u001B[0m\n\u001B[0;32m-> 2898\u001B[0;31m                 \u001B[0;32mreturn\u001B[0m \u001B[0mself\u001B[0m\u001B[0;34m.\u001B[0m\u001B[0m_engine\u001B[0m\u001B[0;34m.\u001B[0m\u001B[0mget_loc\u001B[0m\u001B[0;34m(\u001B[0m\u001B[0mcasted_key\u001B[0m\u001B[0;34m)\u001B[0m\u001B[0;34m\u001B[0m\u001B[0;34m\u001B[0m\u001B[0m\n\u001B[0m\u001B[1;32m   2899\u001B[0m             \u001B[0;32mexcept\u001B[0m \u001B[0mKeyError\u001B[0m \u001B[0;32mas\u001B[0m \u001B[0merr\u001B[0m\u001B[0;34m:\u001B[0m\u001B[0;34m\u001B[0m\u001B[0;34m\u001B[0m\u001B[0m\n",
      "\u001B[0;32mpandas/_libs/index.pyx\u001B[0m in \u001B[0;36mpandas._libs.index.IndexEngine.get_loc\u001B[0;34m()\u001B[0m\n",
      "\u001B[0;32mpandas/_libs/index.pyx\u001B[0m in \u001B[0;36mpandas._libs.index.IndexEngine.get_loc\u001B[0;34m()\u001B[0m\n",
      "\u001B[0;32mpandas/_libs/hashtable_class_helper.pxi\u001B[0m in \u001B[0;36mpandas._libs.hashtable.PyObjectHashTable.get_item\u001B[0;34m()\u001B[0m\n",
      "\u001B[0;32mpandas/_libs/hashtable_class_helper.pxi\u001B[0m in \u001B[0;36mpandas._libs.hashtable.PyObjectHashTable.get_item\u001B[0;34m()\u001B[0m\n",
      "\u001B[0;31mKeyError\u001B[0m: 'cluster'",
      "\nThe above exception was the direct cause of the following exception:\n",
      "\u001B[0;31mKeyError\u001B[0m                                  Traceback (most recent call last)",
      "\u001B[0;32m<ipython-input-63-c0b65d9fab4e>\u001B[0m in \u001B[0;36m<module>\u001B[0;34m()\u001B[0m\n\u001B[0;32m----> 1\u001B[0;31m \u001B[0mwc\u001B[0m \u001B[0;34m=\u001B[0m \u001B[0mplot_wordcloud_for_cluster\u001B[0m\u001B[0;34m(\u001B[0m\u001B[0mspams_df\u001B[0m\u001B[0;34m,\u001B[0m\u001B[0;36m0\u001B[0m\u001B[0;34m,\u001B[0m\u001B[0;36m0.22\u001B[0m\u001B[0;34m)\u001B[0m\u001B[0;34m\u001B[0m\u001B[0;34m\u001B[0m\u001B[0m\n\u001B[0m",
      "\u001B[0;32m<ipython-input-60-52baa9e341a3>\u001B[0m in \u001B[0;36mplot_wordcloud_for_cluster\u001B[0;34m(df_in, cluster_id, threshold)\u001B[0m\n\u001B[1;32m     14\u001B[0m \u001B[0;34m\u001B[0m\u001B[0m\n\u001B[1;32m     15\u001B[0m     \u001B[0;31m# filter verbatims according to cluster\u001B[0m\u001B[0;34m\u001B[0m\u001B[0;34m\u001B[0m\u001B[0;34m\u001B[0m\u001B[0m\n\u001B[0;32m---> 16\u001B[0;31m     \u001B[0mdf_in_cluster\u001B[0m \u001B[0;34m=\u001B[0m \u001B[0mdf_in\u001B[0m\u001B[0;34m[\u001B[0m\u001B[0mdf_in\u001B[0m\u001B[0;34m[\u001B[0m\u001B[0;34m'cluster'\u001B[0m\u001B[0;34m]\u001B[0m\u001B[0;34m==\u001B[0m\u001B[0mcluster_id\u001B[0m\u001B[0;34m]\u001B[0m\u001B[0;34m\u001B[0m\u001B[0;34m\u001B[0m\u001B[0m\n\u001B[0m\u001B[1;32m     17\u001B[0m \u001B[0;34m\u001B[0m\u001B[0m\n\u001B[1;32m     18\u001B[0m     \u001B[0;31m# Compute word frequency\u001B[0m\u001B[0;34m\u001B[0m\u001B[0;34m\u001B[0m\u001B[0;34m\u001B[0m\u001B[0m\n",
      "\u001B[0;32m/usr/local/lib/python3.7/dist-packages/pandas/core/frame.py\u001B[0m in \u001B[0;36m__getitem__\u001B[0;34m(self, key)\u001B[0m\n\u001B[1;32m   2904\u001B[0m             \u001B[0;32mif\u001B[0m \u001B[0mself\u001B[0m\u001B[0;34m.\u001B[0m\u001B[0mcolumns\u001B[0m\u001B[0;34m.\u001B[0m\u001B[0mnlevels\u001B[0m \u001B[0;34m>\u001B[0m \u001B[0;36m1\u001B[0m\u001B[0;34m:\u001B[0m\u001B[0;34m\u001B[0m\u001B[0;34m\u001B[0m\u001B[0m\n\u001B[1;32m   2905\u001B[0m                 \u001B[0;32mreturn\u001B[0m \u001B[0mself\u001B[0m\u001B[0;34m.\u001B[0m\u001B[0m_getitem_multilevel\u001B[0m\u001B[0;34m(\u001B[0m\u001B[0mkey\u001B[0m\u001B[0;34m)\u001B[0m\u001B[0;34m\u001B[0m\u001B[0;34m\u001B[0m\u001B[0m\n\u001B[0;32m-> 2906\u001B[0;31m             \u001B[0mindexer\u001B[0m \u001B[0;34m=\u001B[0m \u001B[0mself\u001B[0m\u001B[0;34m.\u001B[0m\u001B[0mcolumns\u001B[0m\u001B[0;34m.\u001B[0m\u001B[0mget_loc\u001B[0m\u001B[0;34m(\u001B[0m\u001B[0mkey\u001B[0m\u001B[0;34m)\u001B[0m\u001B[0;34m\u001B[0m\u001B[0;34m\u001B[0m\u001B[0m\n\u001B[0m\u001B[1;32m   2907\u001B[0m             \u001B[0;32mif\u001B[0m \u001B[0mis_integer\u001B[0m\u001B[0;34m(\u001B[0m\u001B[0mindexer\u001B[0m\u001B[0;34m)\u001B[0m\u001B[0;34m:\u001B[0m\u001B[0;34m\u001B[0m\u001B[0;34m\u001B[0m\u001B[0m\n\u001B[1;32m   2908\u001B[0m                 \u001B[0mindexer\u001B[0m \u001B[0;34m=\u001B[0m \u001B[0;34m[\u001B[0m\u001B[0mindexer\u001B[0m\u001B[0;34m]\u001B[0m\u001B[0;34m\u001B[0m\u001B[0;34m\u001B[0m\u001B[0m\n",
      "\u001B[0;32m/usr/local/lib/python3.7/dist-packages/pandas/core/indexes/base.py\u001B[0m in \u001B[0;36mget_loc\u001B[0;34m(self, key, method, tolerance)\u001B[0m\n\u001B[1;32m   2898\u001B[0m                 \u001B[0;32mreturn\u001B[0m \u001B[0mself\u001B[0m\u001B[0;34m.\u001B[0m\u001B[0m_engine\u001B[0m\u001B[0;34m.\u001B[0m\u001B[0mget_loc\u001B[0m\u001B[0;34m(\u001B[0m\u001B[0mcasted_key\u001B[0m\u001B[0;34m)\u001B[0m\u001B[0;34m\u001B[0m\u001B[0;34m\u001B[0m\u001B[0m\n\u001B[1;32m   2899\u001B[0m             \u001B[0;32mexcept\u001B[0m \u001B[0mKeyError\u001B[0m \u001B[0;32mas\u001B[0m \u001B[0merr\u001B[0m\u001B[0;34m:\u001B[0m\u001B[0;34m\u001B[0m\u001B[0;34m\u001B[0m\u001B[0m\n\u001B[0;32m-> 2900\u001B[0;31m                 \u001B[0;32mraise\u001B[0m \u001B[0mKeyError\u001B[0m\u001B[0;34m(\u001B[0m\u001B[0mkey\u001B[0m\u001B[0;34m)\u001B[0m \u001B[0;32mfrom\u001B[0m \u001B[0merr\u001B[0m\u001B[0;34m\u001B[0m\u001B[0;34m\u001B[0m\u001B[0m\n\u001B[0m\u001B[1;32m   2901\u001B[0m \u001B[0;34m\u001B[0m\u001B[0m\n\u001B[1;32m   2902\u001B[0m         \u001B[0;32mif\u001B[0m \u001B[0mtolerance\u001B[0m \u001B[0;32mis\u001B[0m \u001B[0;32mnot\u001B[0m \u001B[0;32mNone\u001B[0m\u001B[0;34m:\u001B[0m\u001B[0;34m\u001B[0m\u001B[0;34m\u001B[0m\u001B[0m\n",
      "\u001B[0;31mKeyError\u001B[0m: 'cluster'"
     ]
    }
   ]
  },
  {
   "cell_type": "markdown",
   "metadata": {
    "id": "ZMIc-xK0KmCH"
   },
   "source": [
    "## IV. Classification"
   ]
  },
  {
   "cell_type": "code",
   "metadata": {
    "collapsed": true,
    "id": "HHM3T2hJKmCH"
   },
   "source": [
    "# Try to understand\n",
    "# Definition of the classification function using Naive Bayes model\n",
    "def train(features):\n",
    "    \"\"\"\n",
    "    Trains NBC on training set \n",
    "    \n",
    "    Args :\n",
    "        features (dict) : dictionnary giving words present in the verbatim\n",
    "        \n",
    "    Returns :\n",
    "        train_set : list of verbatims in the train set\n",
    "        test_set : list of verbatims in the test set\n",
    "        classifier : trained NBC model\n",
    "    \"\"\"\n",
    "    # initialize training set and test set\n",
    "    train_set = [(feature[0],feature[1]) for feature in features if feature[2]=='train']\n",
    "    test_set = [(feature[0],feature[1]) for feature in features if feature[2]=='test']\n",
    "    print ('Training set size = ' + str(len(train_set)) + ' emails')\n",
    "    print ('Test set size = ' + str(len(test_set)) + ' emails')\n",
    "    \n",
    "    # train the classifier\n",
    "    classifier = NaiveBayesClassifier.train(train_set)\n",
    "    return train_set, test_set, classifier"
   ],
   "execution_count": null,
   "outputs": []
  },
  {
   "cell_type": "code",
   "metadata": {
    "collapsed": true,
    "id": "2lM-SGvvKmCJ"
   },
   "source": [
    "# Try to understand\n",
    "def most_informative_features_by_label(classifier, label, n=50):\n",
    "    \"\"\"\n",
    "    Returns features and their importance\n",
    "    \"\"\"\n",
    "    cpdist = classifier._feature_probdist\n",
    "    feature_list = []\n",
    "    for (fname, fval) in classifier.most_informative_features(n):\n",
    "        def labelprob(l):\n",
    "            return cpdist[l, fname].prob(fval)\n",
    "        labels = sorted([l for l in classifier._labels if fval in cpdist[l, fname].samples()], \n",
    "                        key=labelprob)\n",
    "        if labels[-1] == label:\n",
    "            feature_list.append(fname)\n",
    "    return feature_list"
   ],
   "execution_count": null,
   "outputs": []
  },
  {
   "cell_type": "code",
   "metadata": {
    "collapsed": true,
    "id": "XSJqGcOEKmCN"
   },
   "source": [
    "def evaluate(train_set, test_set, classifier):\n",
    "    \"\"\"\n",
    "    Checks how the classifier performs on the training and test sets\n",
    "    \"\"\"\n",
    "    print ('Accuracy on the training set = ' + str(classify.accuracy(classifier, train_set)))\n",
    "    print ('Accuracy of the test set = ' + str(classify.accuracy(classifier, test_set)))\n",
    "    return"
   ],
   "execution_count": null,
   "outputs": []
  },
  {
   "cell_type": "markdown",
   "metadata": {
    "id": "wNMRGgZKKmCP"
   },
   "source": [
    "### Let's try a random guess :"
   ]
  },
  {
   "cell_type": "markdown",
   "metadata": {
    "id": "93zuv5A6KmCP"
   },
   "source": [
    "We look at the distribution ham/spam in the training set, and we randomly chose the label of each mail in the test set with the witnessed distribution"
   ]
  },
  {
   "cell_type": "code",
   "metadata": {
    "id": "7hu8jj3YKmCQ",
    "colab": {
     "base_uri": "https://localhost:8080/"
    },
    "outputId": "5a51ecd9-8272-4cc6-fa7b-f120b1b46a29"
   },
   "source": [
    "#TODO: look at hams/spams distribution\n",
    "labels_train = [elem[1] for elem in train_set]\n",
    "count = Counter([elem[1] for elem in train_set])\n",
    "ham_prop = 100*count['ham']/(count['ham']+count['spam'])\n",
    "print('we have ' + str(ham_prop) + ' % of ham')"
   ],
   "execution_count": null,
   "outputs": [
    {
     "output_type": "stream",
     "name": "stdout",
     "text": [
      "we have 49.07311285777844 % of ham\n"
     ]
    }
   ]
  },
  {
   "cell_type": "code",
   "metadata": {
    "id": "4EFVLDESKmCR",
    "colab": {
     "base_uri": "https://localhost:8080/"
    },
    "outputId": "b7818bda-4cc3-4a74-e349-9f04e3b0f4d0"
   },
   "source": [
    "#TODO: create a random classifier with this proportion\n",
    "labels_random = [random.choice(labels_train) for i in range(len(test_set))]\n",
    "correct_label = [elem[1] for elem in test_set]\n",
    "print('our accuracy :')\n",
    "reduce(lambda x,y : x+y,\n",
    "       [1 if correct_label[i]==labels_random[i] else 0 for i in range(len(test_set))],\n",
    "       0)/len(test_set)"
   ],
   "execution_count": null,
   "outputs": [
    {
     "output_type": "stream",
     "name": "stdout",
     "text": [
      "our accuracy :\n"
     ]
    },
    {
     "output_type": "execute_result",
     "data": {
      "text/plain": [
       "0.4980723606168446"
      ]
     },
     "metadata": {},
     "execution_count": 21
    }
   ]
  },
  {
   "cell_type": "markdown",
   "metadata": {
    "id": "KtjXRU38KmCU"
   },
   "source": [
    "### Let's try a Naive Bayes Classifier with no preprocessing"
   ]
  },
  {
   "cell_type": "code",
   "metadata": {
    "scrolled": true,
    "id": "OLqvrn0oKmCV",
    "colab": {
     "base_uri": "https://localhost:8080/"
    },
    "outputId": "7c533665-5859-4146-e8b1-7461416bbf23"
   },
   "source": [
    "#TODO: train the Naive Bayes classifier for all_raw_features\n",
    "train_set, test_set, classifier_raw = train(all_raw_features)"
   ],
   "execution_count": null,
   "outputs": [
    {
     "output_type": "stream",
     "name": "stdout",
     "text": [
      "Training set size = 26972 emails\n",
      "Test set size = 6744 emails\n"
     ]
    }
   ]
  },
  {
   "cell_type": "code",
   "metadata": {
    "scrolled": true,
    "id": "itNrarAMKmCW",
    "colab": {
     "base_uri": "https://localhost:8080/"
    },
    "outputId": "d24d67a6-3a96-46d8-e750-a8ae9e0d4a24"
   },
   "source": [
    "#TODO: show most informative features\n",
    "classifier_raw.show_most_informative_features(10)"
   ],
   "execution_count": null,
   "outputs": [
    {
     "output_type": "stream",
     "name": "stdout",
     "text": [
      "Most Informative Features\n",
      "                   enron = True              ham : spam   =   4471.1 : 1.0\n",
      "                     hpl = True              ham : spam   =    485.5 : 1.0\n",
      "                     php = True             spam : ham    =    483.4 : 1.0\n",
      "                     xls = True              ham : spam   =    400.2 : 1.0\n",
      "                    meds = True             spam : ham    =    307.4 : 1.0\n",
      "                   corel = True             spam : ham    =    265.6 : 1.0\n",
      "                       \u0001 = True              ham : spam   =    256.3 : 1.0\n",
      "             derivatives = True              ham : spam   =    255.6 : 1.0\n",
      "              macromedia = True             spam : ham    =    241.9 : 1.0\n",
      "                     ect = True              ham : spam   =    240.7 : 1.0\n"
     ]
    }
   ]
  },
  {
   "cell_type": "code",
   "metadata": {
    "scrolled": false,
    "id": "fC1m30d8KmCY",
    "colab": {
     "base_uri": "https://localhost:8080/"
    },
    "outputId": "fbf00d6c-693e-4f35-ac95-393d1a6be928"
   },
   "source": [
    "#TODO: evaluate accuracy of the model\n",
    "evaluate(train_set, test_set, classifier_raw)"
   ],
   "execution_count": null,
   "outputs": [
    {
     "output_type": "stream",
     "name": "stdout",
     "text": [
      "Accuracy on the training set = 0.986801127094765\n",
      "Accuracy of the test set = 0.9730130486358244\n"
     ]
    }
   ]
  },
  {
   "cell_type": "markdown",
   "metadata": {
    "id": "04Zqkh6MKmCa"
   },
   "source": [
    "### Let's train the model with a preprocessing"
   ]
  },
  {
   "cell_type": "code",
   "metadata": {
    "scrolled": true,
    "id": "wBTUZ5DKKmCa",
    "colab": {
     "base_uri": "https://localhost:8080/"
    },
    "outputId": "fb685d0c-0967-48e6-cb37-3657426110da"
   },
   "source": [
    "#TODO: train the Naive Bayes classifier for all_features\n",
    "train_set, test_set, classifier = train(all_features)"
   ],
   "execution_count": null,
   "outputs": [
    {
     "output_type": "stream",
     "name": "stdout",
     "text": [
      "Training set size = 26972 emails\n",
      "Test set size = 6744 emails\n"
     ]
    }
   ]
  },
  {
   "cell_type": "code",
   "metadata": {
    "scrolled": true,
    "id": "aX3iaRgZKmCc",
    "colab": {
     "base_uri": "https://localhost:8080/"
    },
    "outputId": "50d731d3-4056-4267-a572-23272c9edd77"
   },
   "source": [
    "#TODO: show most informative features\n",
    "classifier.show_most_informative_features(10)"
   ],
   "execution_count": null,
   "outputs": [
    {
     "output_type": "stream",
     "name": "stdout",
     "text": [
      "Most Informative Features\n",
      "                   enron = True              ham : spam   =   4471.1 : 1.0\n",
      "                     hpl = True              ham : spam   =    485.5 : 1.0\n",
      "                     php = True             spam : ham    =    483.4 : 1.0\n",
      "                     xls = True              ham : spam   =    400.2 : 1.0\n",
      "                   corel = True             spam : ham    =    268.2 : 1.0\n",
      "                       \u0001 = True              ham : spam   =    256.3 : 1.0\n",
      "              macromedia = True             spam : ham    =    241.9 : 1.0\n",
      "                   louis = True              ham : spam   =    238.1 : 1.0\n",
      "                     eol = True              ham : spam   =    214.8 : 1.0\n",
      "                     713 = True              ham : spam   =    207.9 : 1.0\n"
     ]
    }
   ]
  },
  {
   "cell_type": "code",
   "metadata": {
    "scrolled": true,
    "id": "LIrjNcJTKmCe",
    "colab": {
     "base_uri": "https://localhost:8080/"
    },
    "outputId": "97009082-5004-4065-fffc-d23b47f6081d"
   },
   "source": [
    "#TODO: evaluate accuracy of the model\n",
    "evaluate(train_set, test_set, classifier)"
   ],
   "execution_count": null,
   "outputs": [
    {
     "output_type": "stream",
     "name": "stdout",
     "text": [
      "Accuracy on the training set = 0.9927702802906718\n",
      "Accuracy of the test set = 0.9875444839857651\n"
     ]
    }
   ]
  },
  {
   "cell_type": "code",
   "metadata": {
    "scrolled": true,
    "id": "pmTkUjh_KmCg",
    "colab": {
     "base_uri": "https://localhost:8080/",
     "height": 246
    },
    "outputId": "cb2c17f0-e3eb-40f1-badf-7857ae6a496e"
   },
   "source": [
    "#TODO: create a wordcloud with most informative features for spam\n",
    "wordcloud_spam = WordCloud(background_color='white').generate(' '.join(most_informative_features_by_label(classifier,'spam')))\n",
    "plt.imshow(wordcloud_spam)\n",
    "plt.title(\"Most informative features - Spam\\n\")\n",
    "plt.axis()\n",
    "plt.show()"
   ],
   "execution_count": null,
   "outputs": [
    {
     "output_type": "display_data",
     "data": {
      "image/png": "[encoded data removed]",
      "text/plain": [
       "<Figure size 432x288 with 1 Axes>"
      ]
     },
     "metadata": {
      "needs_background": "light"
     }
    }
   ]
  },
  {
   "cell_type": "code",
   "metadata": {
    "scrolled": false,
    "id": "RwCks-WwKmCh",
    "colab": {
     "base_uri": "https://localhost:8080/",
     "height": 246
    },
    "outputId": "5cb32bce-8549-4789-8979-b36dc6624eef"
   },
   "source": [
    "#TODO: create a wordcloud with most informative features for ham\n",
    "wordcloud_ham = WordCloud(background_color='white').generate(' '.join(most_informative_features_by_label(classifier,'ham')))\n",
    "plt.imshow(wordcloud_ham)\n",
    "plt.title(\"Most informative features - Ham\\n\")\n",
    "plt.axis()\n",
    "plt.show()"
   ],
   "execution_count": null,
   "outputs": [
    {
     "output_type": "display_data",
     "data": {
      "image/png": "[encoded data removed]",
      "text/plain": [
       "<Figure size 432x288 with 1 Axes>"
      ]
     },
     "metadata": {
      "needs_background": "light"
     }
    }
   ]
  },
  {
   "cell_type": "markdown",
   "metadata": {
    "id": "tnWXzrHWKmCj"
   },
   "source": [
    "### Other metrics to explore"
   ]
  },
  {
   "cell_type": "code",
   "metadata": {
    "scrolled": false,
    "id": "xlrR1ClaKmCk"
   },
   "source": [
    "# variables\n",
    "\n",
    "test_features = [feature[0] for feature in test_set]\n",
    "test_label = [feature[1] for feature in test_set]\n",
    "prediction = classifier.classify_many(test_features)\n",
    "\n",
    "#TODO: show confusion matrix on test set ++ precision on spam prediction on test set + recall on spam prediction on test set\n",
    "\n",
    "cm = \n",
    "print(\"Confusion Matrix on test set\" )\n",
    "print(cm)\n",
    "print(\"Precision on spam prediction on test set = \" \n",
    "      + str(sklearn.metrics.precision_score(test_label,prediction,pos_label='ham')))\n",
    "print(\"Recall on spam prediction on test set = \" \n",
    "      + str(sklearn.metrics.recall_score(test_label,prediction,pos_label='ham')))"
   ],
   "execution_count": null,
   "outputs": []
  },
  {
   "cell_type": "code",
   "metadata": {
    "id": "_yW9KV9DJLWv"
   },
   "source": [],
   "execution_count": null,
   "outputs": []
  }
 ]
}